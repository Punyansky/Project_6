{
 "cells": [
  {
   "cell_type": "markdown",
   "id": "c10edf8d",
   "metadata": {},
   "source": [
    "## Project: Making Business Decisions Based on Data"
   ]
  },
  {
   "cell_type": "markdown",
   "id": "6b51fc41",
   "metadata": {},
   "source": [
    "**Project description**\n",
    "<br>\n",
    "**Context**\n",
    "<br>\n",
    "You are an analyst at a big online store. Together with the marketing department, you've compiled a list of hypotheses that may help boost revenue.\n",
    "You need to prioritize these hypotheses, launch an A/B test, and analyze the results.\n",
    "<br>\n",
    "  **Description of the data**\n",
    "<br>\n",
    "Data used in the first part of the project:\n",
    "<br>\n",
    "**/datasets/hypotheses_us.csv**\n",
    "\n",
    "- **Hypotheses** — brief descriptions of the hypotheses\n",
    "- **Reach** — user reach, on a scale of one to ten\n",
    "- **Impact** — impact on users, on a scale of one to ten\n",
    "- **Confidence** — confidence in the hypothesis, on a scale of one to ten\n",
    "- **Effort** — the resources required to test a hypothesis, on a scale of one to ten. The higher the Effort value, the more resource-intensive the test.\n",
    "<br>\n",
    "\n",
    "\n",
    " Data used in the second part of the project:\n",
    " <br>\n",
    " **/datasets/orders_us.csv**\n",
    "\n",
    "\n",
    "   - **transactionId** — order identifier\n",
    "   - **visitorId** — identifier of the user who placed the order\n",
    "   - **date** — of the order\n",
    "   - **revenue** — from the order\n",
    "   - **group** — the A/B test group that the user belongs to\n",
    "\n",
    "**/datasets/visits_us.csv**\n",
    "\n",
    "   - **date** — date\n",
    "   - **group** — A/B test group\n",
    "   - **visits** — the number of visits on the date specified in the A/B test group specified\n",
    "<br>\n",
    "\n",
    "\n",
    "**Make sure to preprocess the data.**\n",
    "\n",
    "<br> \n",
    "There might be mistakes in the original datasets; for example, some of the visitors might have gotten into both group A and group B.\n",
    "\n",
    "\n",
    " <br>\n",
    " \n",
    " **Part 1. Prioritizing Hypotheses**\n",
    "<br> \n",
    "The file hypotheses_us.csv contains nine hypotheses on boosting an online store's revenue with Reach, Impact, Confidence, and Effort specified for each.\n",
    "The task is to:\n",
    "\n",
    "   - **Apply the ICE framework to prioritize hypotheses. Sort them in descending order of priority.**\n",
    "   - **Apply the RICE framework to prioritize hypotheses. Sort them in descending order of priority.**\n",
    "   - **Show how the prioritization of hypotheses changes when you use RICE instead of ICE. Provide an explanation for the changes.**\n",
    "\n",
    "**Part 2. A/B Test Analysis**\n",
    " <br>\n",
    "You carried out an A/B test and got the results described in the files orders_us.csv and visits_us.csv.\n",
    "Task\n",
    "Analyze the A/B test:\n",
    "\n",
    "   - **Graph cumulative revenue by group. Make conclusions and conjectures.**\n",
    "   - **Graph cumulative average order size by group. Make conclusions and conjectures.**\n",
    "   - **Graph the relative difference in cumulative average order size for group B compared with group A.** \n",
    "   - **Make conclusions and conjectures.**\n",
    "   - **Calculate each group's conversion rate as the ratio of orders to the number of visits for each day.** \n",
    "   - **Plot the daily conversion rates of the two groups and describe the difference. Draw conclusions and make conjectures.**\n",
    "   - **Plot a scatter chart of the number of orders per user. Make conclusions and conjectures.**\n",
    "   - **Calculate the 95th and 99th percentiles for the number of orders per user.** \n",
    "   - **Define the point at which a data point becomes an anomaly.**\n",
    "   - **Plot a scatter chart of order prices. Make conclusions and conjectures.**\n",
    "   - **Calculate the 95th and 99th percentiles of order prices.** \n",
    "   - **Define the point at which a data point becomes an anomaly.**\n",
    "   - **Find the statistical significance of the difference in conversion between the groups using the raw data.**\n",
    "   - **Make conclusions and conjectures.**\n",
    "   - **Find the statistical significance of the difference in average order size between the groups using the raw data.**\n",
    "   - **Make conclusions and conjectures.**\n",
    "   - **Find the statistical significance of the difference in conversion between the groups using the filtered data**.\n",
    "   - **Make conclusions and conjectures.**\n",
    "   - **Find the statistical significance of the difference in average order size between the groups using the filtered data.**\n",
    "   - **Make conclusions and conjectures.**\n",
    "   - **Make a decision based on the test results.**\n",
    "   - **The possible decisions are:**\n",
    "<br>\n",
    "   \n",
    "   \n",
    "\n",
    "   **1.** Stop the test, consider one of the groups the leader.\n",
    "   <br>\n",
    "  \n",
    "   **2.** Stop the test, conclude that there is no difference between the groups.\n",
    "   <br>\n",
    "\n",
    "   **3.** Continue the test.\n",
    "<br>\n",
    "\n",
    " **How will my project be assessed?**\n",
    "Your project will be assessed on these criteria. Read over them carefully before you start the project.\n",
    "Here’s what project reviewers look for when assessing your project:\n",
    "\n",
    "  - **How you prepare the data for analysis**\n",
    "  - **How you prioritize hypotheses**\n",
    "  - **How you interpret the resulting graphs**\n",
    "  - **How you calculate statistical significance**\n",
    "  - **What conclusions you draw based on the A/B test results**\n",
    "  - **Whether you follow the project structure and keep the code tidy**\n",
    "  - **The conclusions you make**\n",
    "  - **Whether you leave comments at each step**"
   ]
  },
  {
   "cell_type": "code",
   "execution_count": 1,
   "id": "3238a7c1",
   "metadata": {},
   "outputs": [
    {
     "name": "stdout",
     "output_type": "stream",
     "text": [
      "Requirement already satisfied: sidetable in c:\\users\\ididi\\anaconda3\\lib\\site-packages (0.9.0)\n",
      "Requirement already satisfied: pandas>=1.0 in c:\\users\\ididi\\anaconda3\\lib\\site-packages (from sidetable) (1.3.4)\n",
      "Requirement already satisfied: python-dateutil>=2.7.3 in c:\\users\\ididi\\anaconda3\\lib\\site-packages (from pandas>=1.0->sidetable) (2.8.2)\n",
      "Requirement already satisfied: numpy>=1.17.3 in c:\\users\\ididi\\anaconda3\\lib\\site-packages (from pandas>=1.0->sidetable) (1.20.3)\n",
      "Requirement already satisfied: pytz>=2017.3 in c:\\users\\ididi\\anaconda3\\lib\\site-packages (from pandas>=1.0->sidetable) (2021.3)\n",
      "Requirement already satisfied: six>=1.5 in c:\\users\\ididi\\anaconda3\\lib\\site-packages (from python-dateutil>=2.7.3->pandas>=1.0->sidetable) (1.16.0)\n"
     ]
    }
   ],
   "source": [
    "!pip install sidetable"
   ]
  },
  {
   "cell_type": "code",
   "execution_count": 2,
   "id": "456813ab",
   "metadata": {},
   "outputs": [],
   "source": [
    "#!pip install jupyter-dash"
   ]
  },
  {
   "cell_type": "code",
   "execution_count": 3,
   "id": "6ec6cdb8",
   "metadata": {},
   "outputs": [],
   "source": [
    "import pandas as pd\n",
    "import numpy as np\n",
    "from datetime import datetime\n",
    "import sidetable\n",
    "import seaborn as sns\n",
    "import matplotlib.pyplot as plt\n",
    "import plotly.express as px\n",
    "import plotly.graph_objects as go\n",
    "import statistics\n",
    "import scipy.stats as stats\n"
   ]
  },
  {
   "cell_type": "markdown",
   "id": "f84ca2e6",
   "metadata": {},
   "source": [
    "**Make sure to preprocess the data:**"
   ]
  },
  {
   "cell_type": "code",
   "execution_count": 4,
   "id": "6b850cae",
   "metadata": {},
   "outputs": [],
   "source": [
    "try:\n",
    "    hypotheses = pd.read_csv('hypotheses_us.csv', sep = \";\")\n",
    "    orders = pd.read_csv('orders_us.csv')\n",
    "    visits = pd.read_csv('visits_us.csv')\n",
    "    \n",
    "except:\n",
    "    hypotheses = pd.read_csv('/datasets/hypotheses_us.csv', sep = \";\")\n",
    "    orders = pd.read_csv('/datasets/orders_us.csv')\n",
    "    visits = pd.read_csv('/datasets/visits_us.csv')\n",
    "    "
   ]
  },
  {
   "cell_type": "code",
   "execution_count": 5,
   "id": "b1a4d0f4",
   "metadata": {},
   "outputs": [
    {
     "data": {
      "text/html": [
       "<div>\n",
       "<style scoped>\n",
       "    .dataframe tbody tr th:only-of-type {\n",
       "        vertical-align: middle;\n",
       "    }\n",
       "\n",
       "    .dataframe tbody tr th {\n",
       "        vertical-align: top;\n",
       "    }\n",
       "\n",
       "    .dataframe thead th {\n",
       "        text-align: right;\n",
       "    }\n",
       "</style>\n",
       "<table border=\"1\" class=\"dataframe\">\n",
       "  <thead>\n",
       "    <tr style=\"text-align: right;\">\n",
       "      <th></th>\n",
       "      <th>Hypothesis</th>\n",
       "      <th>Reach</th>\n",
       "      <th>Impact</th>\n",
       "      <th>Confidence</th>\n",
       "      <th>Effort</th>\n",
       "    </tr>\n",
       "  </thead>\n",
       "  <tbody>\n",
       "    <tr>\n",
       "      <th>0</th>\n",
       "      <td>Add two new channels for attracting traffic. T...</td>\n",
       "      <td>3</td>\n",
       "      <td>10</td>\n",
       "      <td>8</td>\n",
       "      <td>6</td>\n",
       "    </tr>\n",
       "    <tr>\n",
       "      <th>1</th>\n",
       "      <td>Launch your own delivery service. This will sh...</td>\n",
       "      <td>2</td>\n",
       "      <td>5</td>\n",
       "      <td>4</td>\n",
       "      <td>10</td>\n",
       "    </tr>\n",
       "    <tr>\n",
       "      <th>2</th>\n",
       "      <td>Add product recommendation blocks to the store...</td>\n",
       "      <td>8</td>\n",
       "      <td>3</td>\n",
       "      <td>7</td>\n",
       "      <td>3</td>\n",
       "    </tr>\n",
       "    <tr>\n",
       "      <th>3</th>\n",
       "      <td>Change the category structure. This will incre...</td>\n",
       "      <td>8</td>\n",
       "      <td>3</td>\n",
       "      <td>3</td>\n",
       "      <td>8</td>\n",
       "    </tr>\n",
       "    <tr>\n",
       "      <th>4</th>\n",
       "      <td>Change the background color on the main page. ...</td>\n",
       "      <td>3</td>\n",
       "      <td>1</td>\n",
       "      <td>1</td>\n",
       "      <td>1</td>\n",
       "    </tr>\n",
       "  </tbody>\n",
       "</table>\n",
       "</div>"
      ],
      "text/plain": [
       "                                          Hypothesis  Reach  Impact  \\\n",
       "0  Add two new channels for attracting traffic. T...      3      10   \n",
       "1  Launch your own delivery service. This will sh...      2       5   \n",
       "2  Add product recommendation blocks to the store...      8       3   \n",
       "3  Change the category structure. This will incre...      8       3   \n",
       "4  Change the background color on the main page. ...      3       1   \n",
       "\n",
       "   Confidence  Effort  \n",
       "0           8       6  \n",
       "1           4      10  \n",
       "2           7       3  \n",
       "3           3       8  \n",
       "4           1       1  "
      ]
     },
     "execution_count": 5,
     "metadata": {},
     "output_type": "execute_result"
    }
   ],
   "source": [
    "hypotheses.head()"
   ]
  },
  {
   "cell_type": "code",
   "execution_count": 6,
   "id": "fe69d783",
   "metadata": {
    "scrolled": true
   },
   "outputs": [
    {
     "data": {
      "text/html": [
       "<div>\n",
       "<style scoped>\n",
       "    .dataframe tbody tr th:only-of-type {\n",
       "        vertical-align: middle;\n",
       "    }\n",
       "\n",
       "    .dataframe tbody tr th {\n",
       "        vertical-align: top;\n",
       "    }\n",
       "\n",
       "    .dataframe thead th {\n",
       "        text-align: right;\n",
       "    }\n",
       "</style>\n",
       "<table border=\"1\" class=\"dataframe\">\n",
       "  <thead>\n",
       "    <tr style=\"text-align: right;\">\n",
       "      <th></th>\n",
       "      <th>transactionId</th>\n",
       "      <th>visitorId</th>\n",
       "      <th>date</th>\n",
       "      <th>revenue</th>\n",
       "      <th>group</th>\n",
       "    </tr>\n",
       "  </thead>\n",
       "  <tbody>\n",
       "    <tr>\n",
       "      <th>0</th>\n",
       "      <td>3667963787</td>\n",
       "      <td>3312258926</td>\n",
       "      <td>2019-08-15</td>\n",
       "      <td>30.4</td>\n",
       "      <td>B</td>\n",
       "    </tr>\n",
       "    <tr>\n",
       "      <th>1</th>\n",
       "      <td>2804400009</td>\n",
       "      <td>3642806036</td>\n",
       "      <td>2019-08-15</td>\n",
       "      <td>15.2</td>\n",
       "      <td>B</td>\n",
       "    </tr>\n",
       "    <tr>\n",
       "      <th>2</th>\n",
       "      <td>2961555356</td>\n",
       "      <td>4069496402</td>\n",
       "      <td>2019-08-15</td>\n",
       "      <td>10.2</td>\n",
       "      <td>A</td>\n",
       "    </tr>\n",
       "    <tr>\n",
       "      <th>3</th>\n",
       "      <td>3797467345</td>\n",
       "      <td>1196621759</td>\n",
       "      <td>2019-08-15</td>\n",
       "      <td>155.1</td>\n",
       "      <td>B</td>\n",
       "    </tr>\n",
       "    <tr>\n",
       "      <th>4</th>\n",
       "      <td>2282983706</td>\n",
       "      <td>2322279887</td>\n",
       "      <td>2019-08-15</td>\n",
       "      <td>40.5</td>\n",
       "      <td>B</td>\n",
       "    </tr>\n",
       "  </tbody>\n",
       "</table>\n",
       "</div>"
      ],
      "text/plain": [
       "   transactionId   visitorId        date  revenue group\n",
       "0     3667963787  3312258926  2019-08-15     30.4     B\n",
       "1     2804400009  3642806036  2019-08-15     15.2     B\n",
       "2     2961555356  4069496402  2019-08-15     10.2     A\n",
       "3     3797467345  1196621759  2019-08-15    155.1     B\n",
       "4     2282983706  2322279887  2019-08-15     40.5     B"
      ]
     },
     "execution_count": 6,
     "metadata": {},
     "output_type": "execute_result"
    }
   ],
   "source": [
    "orders.head()"
   ]
  },
  {
   "cell_type": "code",
   "execution_count": 7,
   "id": "f4800ac8",
   "metadata": {},
   "outputs": [
    {
     "name": "stdout",
     "output_type": "stream",
     "text": [
      "<class 'pandas.core.frame.DataFrame'>\n",
      "RangeIndex: 1197 entries, 0 to 1196\n",
      "Data columns (total 5 columns):\n",
      " #   Column         Non-Null Count  Dtype  \n",
      "---  ------         --------------  -----  \n",
      " 0   transactionId  1197 non-null   int64  \n",
      " 1   visitorId      1197 non-null   int64  \n",
      " 2   date           1197 non-null   object \n",
      " 3   revenue        1197 non-null   float64\n",
      " 4   group          1197 non-null   object \n",
      "dtypes: float64(1), int64(2), object(2)\n",
      "memory usage: 46.9+ KB\n"
     ]
    }
   ],
   "source": [
    "orders.info()"
   ]
  },
  {
   "cell_type": "code",
   "execution_count": 8,
   "id": "1428a9fc",
   "metadata": {
    "scrolled": true
   },
   "outputs": [
    {
     "data": {
      "text/html": [
       "<div>\n",
       "<style scoped>\n",
       "    .dataframe tbody tr th:only-of-type {\n",
       "        vertical-align: middle;\n",
       "    }\n",
       "\n",
       "    .dataframe tbody tr th {\n",
       "        vertical-align: top;\n",
       "    }\n",
       "\n",
       "    .dataframe thead th {\n",
       "        text-align: right;\n",
       "    }\n",
       "</style>\n",
       "<table border=\"1\" class=\"dataframe\">\n",
       "  <thead>\n",
       "    <tr style=\"text-align: right;\">\n",
       "      <th></th>\n",
       "      <th>date</th>\n",
       "      <th>group</th>\n",
       "      <th>visits</th>\n",
       "    </tr>\n",
       "  </thead>\n",
       "  <tbody>\n",
       "    <tr>\n",
       "      <th>0</th>\n",
       "      <td>2019-08-01</td>\n",
       "      <td>A</td>\n",
       "      <td>719</td>\n",
       "    </tr>\n",
       "    <tr>\n",
       "      <th>1</th>\n",
       "      <td>2019-08-02</td>\n",
       "      <td>A</td>\n",
       "      <td>619</td>\n",
       "    </tr>\n",
       "    <tr>\n",
       "      <th>2</th>\n",
       "      <td>2019-08-03</td>\n",
       "      <td>A</td>\n",
       "      <td>507</td>\n",
       "    </tr>\n",
       "    <tr>\n",
       "      <th>3</th>\n",
       "      <td>2019-08-04</td>\n",
       "      <td>A</td>\n",
       "      <td>717</td>\n",
       "    </tr>\n",
       "    <tr>\n",
       "      <th>4</th>\n",
       "      <td>2019-08-05</td>\n",
       "      <td>A</td>\n",
       "      <td>756</td>\n",
       "    </tr>\n",
       "  </tbody>\n",
       "</table>\n",
       "</div>"
      ],
      "text/plain": [
       "         date group  visits\n",
       "0  2019-08-01     A     719\n",
       "1  2019-08-02     A     619\n",
       "2  2019-08-03     A     507\n",
       "3  2019-08-04     A     717\n",
       "4  2019-08-05     A     756"
      ]
     },
     "execution_count": 8,
     "metadata": {},
     "output_type": "execute_result"
    }
   ],
   "source": [
    "visits.head()"
   ]
  },
  {
   "cell_type": "code",
   "execution_count": 9,
   "id": "f483d1d4",
   "metadata": {},
   "outputs": [],
   "source": [
    "orders['date']=pd.to_datetime(orders['date'],dayfirst=True)"
   ]
  },
  {
   "cell_type": "code",
   "execution_count": 10,
   "id": "248d671d",
   "metadata": {},
   "outputs": [],
   "source": [
    "visits['date']=pd.to_datetime(visits['date'],dayfirst=True)"
   ]
  },
  {
   "cell_type": "markdown",
   "id": "6e50ee6c",
   "metadata": {},
   "source": [
    "Changing the datatype in **'date'** column from **object** to **datetime**"
   ]
  },
  {
   "cell_type": "code",
   "execution_count": 11,
   "id": "857d3cbc",
   "metadata": {},
   "outputs": [],
   "source": [
    "hypotheses = hypotheses.rename(columns=str.lower)\n",
    "pd.set_option('display.max_colwidth',400)"
   ]
  },
  {
   "cell_type": "markdown",
   "id": "fce04cfa",
   "metadata": {},
   "source": [
    "**Converting the hypoteses datadet`s column names to lowcase**"
   ]
  },
  {
   "cell_type": "code",
   "execution_count": 12,
   "id": "9fd43431",
   "metadata": {
    "scrolled": false
   },
   "outputs": [
    {
     "data": {
      "text/html": [
       "<div>\n",
       "<style scoped>\n",
       "    .dataframe tbody tr th:only-of-type {\n",
       "        vertical-align: middle;\n",
       "    }\n",
       "\n",
       "    .dataframe tbody tr th {\n",
       "        vertical-align: top;\n",
       "    }\n",
       "\n",
       "    .dataframe thead th {\n",
       "        text-align: right;\n",
       "    }\n",
       "</style>\n",
       "<table border=\"1\" class=\"dataframe\">\n",
       "  <thead>\n",
       "    <tr style=\"text-align: right;\">\n",
       "      <th></th>\n",
       "      <th>hypothesis</th>\n",
       "      <th>reach</th>\n",
       "      <th>impact</th>\n",
       "      <th>confidence</th>\n",
       "      <th>effort</th>\n",
       "    </tr>\n",
       "  </thead>\n",
       "  <tbody>\n",
       "    <tr>\n",
       "      <th>0</th>\n",
       "      <td>Add two new channels for attracting traffic. This will bring 30% more users</td>\n",
       "      <td>3</td>\n",
       "      <td>10</td>\n",
       "      <td>8</td>\n",
       "      <td>6</td>\n",
       "    </tr>\n",
       "    <tr>\n",
       "      <th>1</th>\n",
       "      <td>Launch your own delivery service. This will shorten delivery time</td>\n",
       "      <td>2</td>\n",
       "      <td>5</td>\n",
       "      <td>4</td>\n",
       "      <td>10</td>\n",
       "    </tr>\n",
       "    <tr>\n",
       "      <th>2</th>\n",
       "      <td>Add product recommendation blocks to the store's site. This will increase conversion and average purchase size</td>\n",
       "      <td>8</td>\n",
       "      <td>3</td>\n",
       "      <td>7</td>\n",
       "      <td>3</td>\n",
       "    </tr>\n",
       "    <tr>\n",
       "      <th>3</th>\n",
       "      <td>Change the category structure. This will increase conversion since users will find the products they want more quickly</td>\n",
       "      <td>8</td>\n",
       "      <td>3</td>\n",
       "      <td>3</td>\n",
       "      <td>8</td>\n",
       "    </tr>\n",
       "    <tr>\n",
       "      <th>4</th>\n",
       "      <td>Change the background color on the main page. This will increase user engagement</td>\n",
       "      <td>3</td>\n",
       "      <td>1</td>\n",
       "      <td>1</td>\n",
       "      <td>1</td>\n",
       "    </tr>\n",
       "  </tbody>\n",
       "</table>\n",
       "</div>"
      ],
      "text/plain": [
       "                                                                                                               hypothesis  \\\n",
       "0                                             Add two new channels for attracting traffic. This will bring 30% more users   \n",
       "1                                                       Launch your own delivery service. This will shorten delivery time   \n",
       "2          Add product recommendation blocks to the store's site. This will increase conversion and average purchase size   \n",
       "3  Change the category structure. This will increase conversion since users will find the products they want more quickly   \n",
       "4                                        Change the background color on the main page. This will increase user engagement   \n",
       "\n",
       "   reach  impact  confidence  effort  \n",
       "0      3      10           8       6  \n",
       "1      2       5           4      10  \n",
       "2      8       3           7       3  \n",
       "3      8       3           3       8  \n",
       "4      3       1           1       1  "
      ]
     },
     "execution_count": 12,
     "metadata": {},
     "output_type": "execute_result"
    }
   ],
   "source": [
    "hypotheses.head()"
   ]
  },
  {
   "cell_type": "markdown",
   "id": "a45e7ab1",
   "metadata": {},
   "source": [
    "**Now we can cee all the 'hypothsise' column writings**"
   ]
  },
  {
   "cell_type": "markdown",
   "id": "0079aab6",
   "metadata": {},
   "source": [
    "**Deleting users observed in both groups:**"
   ]
  },
  {
   "cell_type": "code",
   "execution_count": 13,
   "id": "60f5e5ee",
   "metadata": {},
   "outputs": [],
   "source": [
    "orders_a = orders.query('group == \"A\"')\n",
    "orders_b = orders.query('group == \"B\"')\n"
   ]
  },
  {
   "cell_type": "code",
   "execution_count": 14,
   "id": "ac641a63",
   "metadata": {},
   "outputs": [
    {
     "name": "stdout",
     "output_type": "stream",
     "text": [
      "Nomber of users observed in both groups:  0    183\n",
      "dtype: int64\n"
     ]
    }
   ],
   "source": [
    "both_groups = pd.merge(orders_a ,orders_b, how = 'inner', on = ['visitorId'] )\n",
    "print('Nomber of users observed in both groups: ', pd.Series(len(both_groups)))"
   ]
  },
  {
   "cell_type": "code",
   "execution_count": 15,
   "id": "b30d531b",
   "metadata": {},
   "outputs": [
    {
     "data": {
      "text/html": [
       "<div>\n",
       "<style scoped>\n",
       "    .dataframe tbody tr th:only-of-type {\n",
       "        vertical-align: middle;\n",
       "    }\n",
       "\n",
       "    .dataframe tbody tr th {\n",
       "        vertical-align: top;\n",
       "    }\n",
       "\n",
       "    .dataframe thead th {\n",
       "        text-align: right;\n",
       "    }\n",
       "</style>\n",
       "<table border=\"1\" class=\"dataframe\">\n",
       "  <thead>\n",
       "    <tr style=\"text-align: right;\">\n",
       "      <th></th>\n",
       "      <th>transactionId_x</th>\n",
       "      <th>visitorId</th>\n",
       "      <th>date_x</th>\n",
       "      <th>revenue_x</th>\n",
       "      <th>group_x</th>\n",
       "      <th>transactionId_y</th>\n",
       "      <th>date_y</th>\n",
       "      <th>revenue_y</th>\n",
       "      <th>group_y</th>\n",
       "    </tr>\n",
       "  </thead>\n",
       "  <tbody>\n",
       "    <tr>\n",
       "      <th>134</th>\n",
       "      <td>3925488023</td>\n",
       "      <td>3984495233</td>\n",
       "      <td>2019-08-04</td>\n",
       "      <td>315.1</td>\n",
       "      <td>A</td>\n",
       "      <td>3532704780</td>\n",
       "      <td>2019-08-03</td>\n",
       "      <td>315.1</td>\n",
       "      <td>B</td>\n",
       "    </tr>\n",
       "  </tbody>\n",
       "</table>\n",
       "</div>"
      ],
      "text/plain": [
       "     transactionId_x   visitorId     date_x  revenue_x group_x  \\\n",
       "134       3925488023  3984495233 2019-08-04      315.1       A   \n",
       "\n",
       "     transactionId_y     date_y  revenue_y group_y  \n",
       "134       3532704780 2019-08-03      315.1       B  "
      ]
     },
     "execution_count": 15,
     "metadata": {},
     "output_type": "execute_result"
    }
   ],
   "source": [
    "both_groups.sample()"
   ]
  },
  {
   "cell_type": "code",
   "execution_count": 16,
   "id": "2a8e8262",
   "metadata": {},
   "outputs": [],
   "source": [
    "bad_list = both_groups['visitorId']"
   ]
  },
  {
   "cell_type": "code",
   "execution_count": 17,
   "id": "8edb26b5",
   "metadata": {},
   "outputs": [],
   "source": [
    "full_orders = orders.copy()\n",
    "orders = orders[-orders['visitorId'].isin(bad_list)]"
   ]
  },
  {
   "cell_type": "code",
   "execution_count": 18,
   "id": "fed136a0",
   "metadata": {
    "scrolled": false
   },
   "outputs": [
    {
     "name": "stdout",
     "output_type": "stream",
     "text": [
      "<class 'pandas.core.frame.DataFrame'>\n",
      "RangeIndex: 1197 entries, 0 to 1196\n",
      "Data columns (total 5 columns):\n",
      " #   Column         Non-Null Count  Dtype         \n",
      "---  ------         --------------  -----         \n",
      " 0   transactionId  1197 non-null   int64         \n",
      " 1   visitorId      1197 non-null   int64         \n",
      " 2   date           1197 non-null   datetime64[ns]\n",
      " 3   revenue        1197 non-null   float64       \n",
      " 4   group          1197 non-null   object        \n",
      "dtypes: datetime64[ns](1), float64(1), int64(2), object(1)\n",
      "memory usage: 46.9+ KB\n",
      "<class 'pandas.core.frame.DataFrame'>\n",
      "Int64Index: 1016 entries, 0 to 1196\n",
      "Data columns (total 5 columns):\n",
      " #   Column         Non-Null Count  Dtype         \n",
      "---  ------         --------------  -----         \n",
      " 0   transactionId  1016 non-null   int64         \n",
      " 1   visitorId      1016 non-null   int64         \n",
      " 2   date           1016 non-null   datetime64[ns]\n",
      " 3   revenue        1016 non-null   float64       \n",
      " 4   group          1016 non-null   object        \n",
      "dtypes: datetime64[ns](1), float64(1), int64(2), object(1)\n",
      "memory usage: 47.6+ KB\n"
     ]
    }
   ],
   "source": [
    "full_orders.info()\n",
    "orders.info()"
   ]
  },
  {
   "cell_type": "markdown",
   "id": "fe3b548c",
   "metadata": {},
   "source": [
    "**We can cee that 183 users they are in both groups, so we decided to remove them to be able to perform accurate calculations**"
   ]
  },
  {
   "cell_type": "code",
   "execution_count": 19,
   "id": "350f28d8",
   "metadata": {},
   "outputs": [
    {
     "data": {
      "text/plain": [
       "0"
      ]
     },
     "execution_count": 19,
     "metadata": {},
     "output_type": "execute_result"
    }
   ],
   "source": [
    "orders.duplicated().sum()"
   ]
  },
  {
   "cell_type": "code",
   "execution_count": 20,
   "id": "d7fb4d79",
   "metadata": {},
   "outputs": [
    {
     "data": {
      "text/plain": [
       "0"
      ]
     },
     "execution_count": 20,
     "metadata": {},
     "output_type": "execute_result"
    }
   ],
   "source": [
    "visits.duplicated().sum()"
   ]
  },
  {
   "cell_type": "code",
   "execution_count": 21,
   "id": "53266f24",
   "metadata": {},
   "outputs": [
    {
     "data": {
      "text/plain": [
       "0"
      ]
     },
     "execution_count": 21,
     "metadata": {},
     "output_type": "execute_result"
    }
   ],
   "source": [
    "hypotheses.duplicated().sum()"
   ]
  },
  {
   "cell_type": "markdown",
   "id": "b60483c0",
   "metadata": {},
   "source": [
    "- **Applying the ICE framework to prioritize hypotheses. Sorting them in descending order of priority.**"
   ]
  },
  {
   "cell_type": "markdown",
   "id": "addb257b",
   "metadata": {},
   "source": [
    "**ICE = (Impact * confidence)/ effort**"
   ]
  },
  {
   "cell_type": "code",
   "execution_count": 22,
   "id": "3f2344b8",
   "metadata": {
    "scrolled": false
   },
   "outputs": [
    {
     "data": {
      "text/html": [
       "<div>\n",
       "<style scoped>\n",
       "    .dataframe tbody tr th:only-of-type {\n",
       "        vertical-align: middle;\n",
       "    }\n",
       "\n",
       "    .dataframe tbody tr th {\n",
       "        vertical-align: top;\n",
       "    }\n",
       "\n",
       "    .dataframe thead th {\n",
       "        text-align: right;\n",
       "    }\n",
       "</style>\n",
       "<table border=\"1\" class=\"dataframe\">\n",
       "  <thead>\n",
       "    <tr style=\"text-align: right;\">\n",
       "      <th></th>\n",
       "      <th>hypothesis</th>\n",
       "      <th>ICE</th>\n",
       "    </tr>\n",
       "  </thead>\n",
       "  <tbody>\n",
       "    <tr>\n",
       "      <th>8</th>\n",
       "      <td>Launch a promotion that gives users discounts on their birthdays</td>\n",
       "      <td>16.200000</td>\n",
       "    </tr>\n",
       "    <tr>\n",
       "      <th>0</th>\n",
       "      <td>Add two new channels for attracting traffic. This will bring 30% more users</td>\n",
       "      <td>13.333333</td>\n",
       "    </tr>\n",
       "    <tr>\n",
       "      <th>7</th>\n",
       "      <td>Add a subscription form to all the main pages. This will help you compile a mailing list</td>\n",
       "      <td>11.200000</td>\n",
       "    </tr>\n",
       "    <tr>\n",
       "      <th>6</th>\n",
       "      <td>Show banners with current offers and sales on the main page. This will boost conversion</td>\n",
       "      <td>8.000000</td>\n",
       "    </tr>\n",
       "    <tr>\n",
       "      <th>2</th>\n",
       "      <td>Add product recommendation blocks to the store's site. This will increase conversion and average purchase size</td>\n",
       "      <td>7.000000</td>\n",
       "    </tr>\n",
       "    <tr>\n",
       "      <th>1</th>\n",
       "      <td>Launch your own delivery service. This will shorten delivery time</td>\n",
       "      <td>2.000000</td>\n",
       "    </tr>\n",
       "    <tr>\n",
       "      <th>5</th>\n",
       "      <td>Add a customer review page. This will increase the number of orders</td>\n",
       "      <td>1.333333</td>\n",
       "    </tr>\n",
       "    <tr>\n",
       "      <th>3</th>\n",
       "      <td>Change the category structure. This will increase conversion since users will find the products they want more quickly</td>\n",
       "      <td>1.125000</td>\n",
       "    </tr>\n",
       "    <tr>\n",
       "      <th>4</th>\n",
       "      <td>Change the background color on the main page. This will increase user engagement</td>\n",
       "      <td>1.000000</td>\n",
       "    </tr>\n",
       "  </tbody>\n",
       "</table>\n",
       "</div>"
      ],
      "text/plain": [
       "                                                                                                               hypothesis  \\\n",
       "8                                                        Launch a promotion that gives users discounts on their birthdays   \n",
       "0                                             Add two new channels for attracting traffic. This will bring 30% more users   \n",
       "7                                Add a subscription form to all the main pages. This will help you compile a mailing list   \n",
       "6                                 Show banners with current offers and sales on the main page. This will boost conversion   \n",
       "2          Add product recommendation blocks to the store's site. This will increase conversion and average purchase size   \n",
       "1                                                       Launch your own delivery service. This will shorten delivery time   \n",
       "5                                                     Add a customer review page. This will increase the number of orders   \n",
       "3  Change the category structure. This will increase conversion since users will find the products they want more quickly   \n",
       "4                                        Change the background color on the main page. This will increase user engagement   \n",
       "\n",
       "         ICE  \n",
       "8  16.200000  \n",
       "0  13.333333  \n",
       "7  11.200000  \n",
       "6   8.000000  \n",
       "2   7.000000  \n",
       "1   2.000000  \n",
       "5   1.333333  \n",
       "3   1.125000  \n",
       "4   1.000000  "
      ]
     },
     "execution_count": 22,
     "metadata": {},
     "output_type": "execute_result"
    }
   ],
   "source": [
    "hypotheses['ICE'] = ( hypotheses['impact'] * hypotheses['confidence'])/hypotheses['effort']\n",
    "hypotheses[['hypothesis', 'ICE']].sort_values(by ='ICE' , ascending = False)"
   ]
  },
  {
   "cell_type": "markdown",
   "id": "3d5c7b1d",
   "metadata": {},
   "source": [
    "- **Applying the RICE framework to prioritize hypotheses. Sorting them in descending order of priority.**"
   ]
  },
  {
   "cell_type": "markdown",
   "id": "74417986",
   "metadata": {},
   "source": [
    "**RICE has four components:**\n",
    "<br>    \n",
    "**Reach** — how many users will be affected by the update you want to introduce\n",
    "<br> \n",
    "**Impact** — how strongly this update will affect the users, their experience, and their satisfaction with the product\n",
    "<br> \n",
    "**Confidence** — how sure you are that your product will affect them in this way\n",
    "<br> \n",
    "**Effort** — how much will it cost to test the hypothesis\n",
    "<br> \n"
   ]
  },
  {
   "cell_type": "markdown",
   "id": "49f14a4b",
   "metadata": {},
   "source": [
    "**RICE = (reach * impact * confidence)/ effort**"
   ]
  },
  {
   "cell_type": "code",
   "execution_count": 23,
   "id": "6d4469dd",
   "metadata": {
    "scrolled": false
   },
   "outputs": [
    {
     "name": "stdout",
     "output_type": "stream",
     "text": [
      "                                                                                                               hypothesis  \\\n",
      "7                                Add a subscription form to all the main pages. This will help you compile a mailing list   \n",
      "2          Add product recommendation blocks to the store's site. This will increase conversion and average purchase size   \n",
      "0                                             Add two new channels for attracting traffic. This will bring 30% more users   \n",
      "6                                 Show banners with current offers and sales on the main page. This will boost conversion   \n",
      "8                                                        Launch a promotion that gives users discounts on their birthdays   \n",
      "3  Change the category structure. This will increase conversion since users will find the products they want more quickly   \n",
      "1                                                       Launch your own delivery service. This will shorten delivery time   \n",
      "5                                                     Add a customer review page. This will increase the number of orders   \n",
      "4                                        Change the background color on the main page. This will increase user engagement   \n",
      "\n",
      "    RICE  \n",
      "7  112.0  \n",
      "2   56.0  \n",
      "0   40.0  \n",
      "6   40.0  \n",
      "8   16.2  \n",
      "3    9.0  \n",
      "1    4.0  \n",
      "5    4.0  \n",
      "4    3.0  \n"
     ]
    }
   ],
   "source": [
    "hypotheses['RICE'] = ( hypotheses['reach'] * hypotheses['impact'] * hypotheses['confidence'])/hypotheses['effort']\n",
    "print(hypotheses[['hypothesis', 'RICE']].sort_values(by ='RICE' , ascending = False))"
   ]
  },
  {
   "cell_type": "markdown",
   "id": "0115636f",
   "metadata": {},
   "source": [
    " - **Showing how the prioritization of hypotheses changes when you use RICE instead of ICE.**"
   ]
  },
  {
   "cell_type": "markdown",
   "id": "5fa190dd",
   "metadata": {},
   "source": [
    "**We can cee that entire order have changed then we used RICE instead ISE, because we added 'reach' variable into our calcualations. Top 5 categories the same in both list, but the order is different. Only hypothes nomber 4 is on the last place in both lists. For our task as online store we should take RISE because it gives us both 'reach' and 'impact' factor alltogether and more flexability in our investigations.**"
   ]
  },
  {
   "cell_type": "code",
   "execution_count": 24,
   "id": "eebd4706",
   "metadata": {},
   "outputs": [
    {
     "data": {
      "text/html": [
       "<div>\n",
       "<style scoped>\n",
       "    .dataframe tbody tr th:only-of-type {\n",
       "        vertical-align: middle;\n",
       "    }\n",
       "\n",
       "    .dataframe tbody tr th {\n",
       "        vertical-align: top;\n",
       "    }\n",
       "\n",
       "    .dataframe thead th {\n",
       "        text-align: right;\n",
       "    }\n",
       "</style>\n",
       "<table border=\"1\" class=\"dataframe\">\n",
       "  <thead>\n",
       "    <tr style=\"text-align: right;\">\n",
       "      <th></th>\n",
       "      <th>hypothesis</th>\n",
       "      <th>reach</th>\n",
       "      <th>impact</th>\n",
       "      <th>confidence</th>\n",
       "      <th>effort</th>\n",
       "      <th>ICE</th>\n",
       "      <th>RICE</th>\n",
       "    </tr>\n",
       "  </thead>\n",
       "  <tbody>\n",
       "    <tr>\n",
       "      <th>0</th>\n",
       "      <td>Add two new channels for attracting traffic. This will bring 30% more users</td>\n",
       "      <td>3</td>\n",
       "      <td>10</td>\n",
       "      <td>8</td>\n",
       "      <td>6</td>\n",
       "      <td>13.333333</td>\n",
       "      <td>40.0</td>\n",
       "    </tr>\n",
       "    <tr>\n",
       "      <th>1</th>\n",
       "      <td>Launch your own delivery service. This will shorten delivery time</td>\n",
       "      <td>2</td>\n",
       "      <td>5</td>\n",
       "      <td>4</td>\n",
       "      <td>10</td>\n",
       "      <td>2.000000</td>\n",
       "      <td>4.0</td>\n",
       "    </tr>\n",
       "    <tr>\n",
       "      <th>2</th>\n",
       "      <td>Add product recommendation blocks to the store's site. This will increase conversion and average purchase size</td>\n",
       "      <td>8</td>\n",
       "      <td>3</td>\n",
       "      <td>7</td>\n",
       "      <td>3</td>\n",
       "      <td>7.000000</td>\n",
       "      <td>56.0</td>\n",
       "    </tr>\n",
       "    <tr>\n",
       "      <th>3</th>\n",
       "      <td>Change the category structure. This will increase conversion since users will find the products they want more quickly</td>\n",
       "      <td>8</td>\n",
       "      <td>3</td>\n",
       "      <td>3</td>\n",
       "      <td>8</td>\n",
       "      <td>1.125000</td>\n",
       "      <td>9.0</td>\n",
       "    </tr>\n",
       "    <tr>\n",
       "      <th>4</th>\n",
       "      <td>Change the background color on the main page. This will increase user engagement</td>\n",
       "      <td>3</td>\n",
       "      <td>1</td>\n",
       "      <td>1</td>\n",
       "      <td>1</td>\n",
       "      <td>1.000000</td>\n",
       "      <td>3.0</td>\n",
       "    </tr>\n",
       "    <tr>\n",
       "      <th>5</th>\n",
       "      <td>Add a customer review page. This will increase the number of orders</td>\n",
       "      <td>3</td>\n",
       "      <td>2</td>\n",
       "      <td>2</td>\n",
       "      <td>3</td>\n",
       "      <td>1.333333</td>\n",
       "      <td>4.0</td>\n",
       "    </tr>\n",
       "    <tr>\n",
       "      <th>6</th>\n",
       "      <td>Show banners with current offers and sales on the main page. This will boost conversion</td>\n",
       "      <td>5</td>\n",
       "      <td>3</td>\n",
       "      <td>8</td>\n",
       "      <td>3</td>\n",
       "      <td>8.000000</td>\n",
       "      <td>40.0</td>\n",
       "    </tr>\n",
       "    <tr>\n",
       "      <th>7</th>\n",
       "      <td>Add a subscription form to all the main pages. This will help you compile a mailing list</td>\n",
       "      <td>10</td>\n",
       "      <td>7</td>\n",
       "      <td>8</td>\n",
       "      <td>5</td>\n",
       "      <td>11.200000</td>\n",
       "      <td>112.0</td>\n",
       "    </tr>\n",
       "    <tr>\n",
       "      <th>8</th>\n",
       "      <td>Launch a promotion that gives users discounts on their birthdays</td>\n",
       "      <td>1</td>\n",
       "      <td>9</td>\n",
       "      <td>9</td>\n",
       "      <td>5</td>\n",
       "      <td>16.200000</td>\n",
       "      <td>16.2</td>\n",
       "    </tr>\n",
       "  </tbody>\n",
       "</table>\n",
       "</div>"
      ],
      "text/plain": [
       "                                                                                                               hypothesis  \\\n",
       "0                                             Add two new channels for attracting traffic. This will bring 30% more users   \n",
       "1                                                       Launch your own delivery service. This will shorten delivery time   \n",
       "2          Add product recommendation blocks to the store's site. This will increase conversion and average purchase size   \n",
       "3  Change the category structure. This will increase conversion since users will find the products they want more quickly   \n",
       "4                                        Change the background color on the main page. This will increase user engagement   \n",
       "5                                                     Add a customer review page. This will increase the number of orders   \n",
       "6                                 Show banners with current offers and sales on the main page. This will boost conversion   \n",
       "7                                Add a subscription form to all the main pages. This will help you compile a mailing list   \n",
       "8                                                        Launch a promotion that gives users discounts on their birthdays   \n",
       "\n",
       "   reach  impact  confidence  effort        ICE   RICE  \n",
       "0      3      10           8       6  13.333333   40.0  \n",
       "1      2       5           4      10   2.000000    4.0  \n",
       "2      8       3           7       3   7.000000   56.0  \n",
       "3      8       3           3       8   1.125000    9.0  \n",
       "4      3       1           1       1   1.000000    3.0  \n",
       "5      3       2           2       3   1.333333    4.0  \n",
       "6      5       3           8       3   8.000000   40.0  \n",
       "7     10       7           8       5  11.200000  112.0  \n",
       "8      1       9           9       5  16.200000   16.2  "
      ]
     },
     "execution_count": 24,
     "metadata": {},
     "output_type": "execute_result"
    }
   ],
   "source": [
    "hypotheses"
   ]
  },
  {
   "cell_type": "markdown",
   "id": "b78d5ecb",
   "metadata": {},
   "source": [
    "**Part 2. A/B Test Analysis**"
   ]
  },
  {
   "cell_type": "markdown",
   "id": "8d3c602f",
   "metadata": {},
   "source": [
    "- **Graphing cumulative revenue by group. Make conclusions and conjectures.**"
   ]
  },
  {
   "cell_type": "code",
   "execution_count": 25,
   "id": "2b2cf58a",
   "metadata": {},
   "outputs": [],
   "source": [
    "revenue_by_group = pd.pivot_table(orders, values = 'revenue', index = 'date', columns = 'group', aggfunc = np.sum )"
   ]
  },
  {
   "cell_type": "code",
   "execution_count": 26,
   "id": "a46092a5",
   "metadata": {},
   "outputs": [
    {
     "data": {
      "text/html": [
       "<div>\n",
       "<style scoped>\n",
       "    .dataframe tbody tr th:only-of-type {\n",
       "        vertical-align: middle;\n",
       "    }\n",
       "\n",
       "    .dataframe tbody tr th {\n",
       "        vertical-align: top;\n",
       "    }\n",
       "\n",
       "    .dataframe thead th {\n",
       "        text-align: right;\n",
       "    }\n",
       "</style>\n",
       "<table border=\"1\" class=\"dataframe\">\n",
       "  <thead>\n",
       "    <tr style=\"text-align: right;\">\n",
       "      <th>group</th>\n",
       "      <th>A</th>\n",
       "      <th>B</th>\n",
       "    </tr>\n",
       "    <tr>\n",
       "      <th>date</th>\n",
       "      <th></th>\n",
       "      <th></th>\n",
       "    </tr>\n",
       "  </thead>\n",
       "  <tbody>\n",
       "    <tr>\n",
       "      <th>2019-08-07</th>\n",
       "      <td>1942.0</td>\n",
       "      <td>3435.6</td>\n",
       "    </tr>\n",
       "  </tbody>\n",
       "</table>\n",
       "</div>"
      ],
      "text/plain": [
       "group            A       B\n",
       "date                      \n",
       "2019-08-07  1942.0  3435.6"
      ]
     },
     "execution_count": 26,
     "metadata": {},
     "output_type": "execute_result"
    }
   ],
   "source": [
    "revenue_by_group.sample()"
   ]
  },
  {
   "cell_type": "code",
   "execution_count": 27,
   "id": "bbfaa530",
   "metadata": {},
   "outputs": [],
   "source": [
    "cumulative_rev_by_group = revenue_by_group.cumsum()"
   ]
  },
  {
   "cell_type": "code",
   "execution_count": 28,
   "id": "08bb118d",
   "metadata": {},
   "outputs": [
    {
     "data": {
      "text/html": [
       "<div>\n",
       "<style scoped>\n",
       "    .dataframe tbody tr th:only-of-type {\n",
       "        vertical-align: middle;\n",
       "    }\n",
       "\n",
       "    .dataframe tbody tr th {\n",
       "        vertical-align: top;\n",
       "    }\n",
       "\n",
       "    .dataframe thead th {\n",
       "        text-align: right;\n",
       "    }\n",
       "</style>\n",
       "<table border=\"1\" class=\"dataframe\">\n",
       "  <thead>\n",
       "    <tr style=\"text-align: right;\">\n",
       "      <th>group</th>\n",
       "      <th>A</th>\n",
       "      <th>B</th>\n",
       "    </tr>\n",
       "    <tr>\n",
       "      <th>date</th>\n",
       "      <th></th>\n",
       "      <th></th>\n",
       "    </tr>\n",
       "  </thead>\n",
       "  <tbody>\n",
       "    <tr>\n",
       "      <th>2019-08-09</th>\n",
       "      <td>13734.0</td>\n",
       "      <td>18428.8</td>\n",
       "    </tr>\n",
       "  </tbody>\n",
       "</table>\n",
       "</div>"
      ],
      "text/plain": [
       "group             A        B\n",
       "date                        \n",
       "2019-08-09  13734.0  18428.8"
      ]
     },
     "execution_count": 28,
     "metadata": {},
     "output_type": "execute_result"
    }
   ],
   "source": [
    "cumulative_rev_by_group.sample()"
   ]
  },
  {
   "cell_type": "code",
   "execution_count": 29,
   "id": "fcc55a03",
   "metadata": {
    "scrolled": false
   },
   "outputs": [
    {
     "data": {
      "image/png": "[encoded data removed]",
      "text/plain": [
       "<Figure size 1080x432 with 1 Axes>"
      ]
     },
     "metadata": {
      "needs_background": "light"
     },
     "output_type": "display_data"
    }
   ],
   "source": [
    "plt.rcParams[\"figure.figsize\"] = (15,6)\n",
    "\n",
    "cumulative_rev_by_group.plot()\n",
    "plt.grid()\n",
    "plt.title('Cumulative Revenue by Group')\n",
    "plt.xlabel('Date')\n",
    "plt.ylabel('Cumulative Ravenue')\n",
    "plt.show()"
   ]
  },
  {
   "cell_type": "markdown",
   "id": "b5a4ff31",
   "metadata": {},
   "source": [
    "**We can cee that cumulative revenue metrics of group A low than thous of group B. Group B groving much harder in second part of the test(after 18.09.2019)**"
   ]
  },
  {
   "cell_type": "markdown",
   "id": "18d3d387",
   "metadata": {},
   "source": [
    "- **Graphing cumulative average order size by group. Make conclusions and conjectures.**"
   ]
  },
  {
   "cell_type": "code",
   "execution_count": 30,
   "id": "a9030910",
   "metadata": {},
   "outputs": [],
   "source": [
    "orders_ = orders.copy()\n",
    "visits_ = visits.copy()\n"
   ]
  },
  {
   "cell_type": "code",
   "execution_count": 31,
   "id": "19f19a7f",
   "metadata": {},
   "outputs": [
    {
     "data": {
      "text/html": [
       "<div>\n",
       "<style scoped>\n",
       "    .dataframe tbody tr th:only-of-type {\n",
       "        vertical-align: middle;\n",
       "    }\n",
       "\n",
       "    .dataframe tbody tr th {\n",
       "        vertical-align: top;\n",
       "    }\n",
       "\n",
       "    .dataframe thead th {\n",
       "        text-align: right;\n",
       "    }\n",
       "</style>\n",
       "<table border=\"1\" class=\"dataframe\">\n",
       "  <thead>\n",
       "    <tr style=\"text-align: right;\">\n",
       "      <th></th>\n",
       "      <th>transactionId</th>\n",
       "      <th>visitorId</th>\n",
       "      <th>date</th>\n",
       "      <th>revenue</th>\n",
       "      <th>group</th>\n",
       "    </tr>\n",
       "  </thead>\n",
       "  <tbody>\n",
       "    <tr>\n",
       "      <th>0</th>\n",
       "      <td>3667963787</td>\n",
       "      <td>3312258926</td>\n",
       "      <td>2019-08-15</td>\n",
       "      <td>30.4</td>\n",
       "      <td>B</td>\n",
       "    </tr>\n",
       "    <tr>\n",
       "      <th>1</th>\n",
       "      <td>2804400009</td>\n",
       "      <td>3642806036</td>\n",
       "      <td>2019-08-15</td>\n",
       "      <td>15.2</td>\n",
       "      <td>B</td>\n",
       "    </tr>\n",
       "    <tr>\n",
       "      <th>3</th>\n",
       "      <td>3797467345</td>\n",
       "      <td>1196621759</td>\n",
       "      <td>2019-08-15</td>\n",
       "      <td>155.1</td>\n",
       "      <td>B</td>\n",
       "    </tr>\n",
       "    <tr>\n",
       "      <th>4</th>\n",
       "      <td>2282983706</td>\n",
       "      <td>2322279887</td>\n",
       "      <td>2019-08-15</td>\n",
       "      <td>40.5</td>\n",
       "      <td>B</td>\n",
       "    </tr>\n",
       "    <tr>\n",
       "      <th>5</th>\n",
       "      <td>182168103</td>\n",
       "      <td>935554773</td>\n",
       "      <td>2019-08-15</td>\n",
       "      <td>35.0</td>\n",
       "      <td>B</td>\n",
       "    </tr>\n",
       "  </tbody>\n",
       "</table>\n",
       "</div>"
      ],
      "text/plain": [
       "   transactionId   visitorId       date  revenue group\n",
       "0     3667963787  3312258926 2019-08-15     30.4     B\n",
       "1     2804400009  3642806036 2019-08-15     15.2     B\n",
       "3     3797467345  1196621759 2019-08-15    155.1     B\n",
       "4     2282983706  2322279887 2019-08-15     40.5     B\n",
       "5      182168103   935554773 2019-08-15     35.0     B"
      ]
     },
     "execution_count": 31,
     "metadata": {},
     "output_type": "execute_result"
    }
   ],
   "source": [
    "orders_.head()"
   ]
  },
  {
   "cell_type": "code",
   "execution_count": 32,
   "id": "ad775e2c",
   "metadata": {},
   "outputs": [
    {
     "data": {
      "text/html": [
       "<div>\n",
       "<style scoped>\n",
       "    .dataframe tbody tr th:only-of-type {\n",
       "        vertical-align: middle;\n",
       "    }\n",
       "\n",
       "    .dataframe tbody tr th {\n",
       "        vertical-align: top;\n",
       "    }\n",
       "\n",
       "    .dataframe thead th {\n",
       "        text-align: right;\n",
       "    }\n",
       "</style>\n",
       "<table border=\"1\" class=\"dataframe\">\n",
       "  <thead>\n",
       "    <tr style=\"text-align: right;\">\n",
       "      <th></th>\n",
       "      <th>date</th>\n",
       "      <th>group</th>\n",
       "      <th>visits</th>\n",
       "    </tr>\n",
       "  </thead>\n",
       "  <tbody>\n",
       "    <tr>\n",
       "      <th>0</th>\n",
       "      <td>2019-08-01</td>\n",
       "      <td>A</td>\n",
       "      <td>719</td>\n",
       "    </tr>\n",
       "    <tr>\n",
       "      <th>1</th>\n",
       "      <td>2019-08-02</td>\n",
       "      <td>A</td>\n",
       "      <td>619</td>\n",
       "    </tr>\n",
       "    <tr>\n",
       "      <th>2</th>\n",
       "      <td>2019-08-03</td>\n",
       "      <td>A</td>\n",
       "      <td>507</td>\n",
       "    </tr>\n",
       "    <tr>\n",
       "      <th>3</th>\n",
       "      <td>2019-08-04</td>\n",
       "      <td>A</td>\n",
       "      <td>717</td>\n",
       "    </tr>\n",
       "    <tr>\n",
       "      <th>4</th>\n",
       "      <td>2019-08-05</td>\n",
       "      <td>A</td>\n",
       "      <td>756</td>\n",
       "    </tr>\n",
       "  </tbody>\n",
       "</table>\n",
       "</div>"
      ],
      "text/plain": [
       "        date group  visits\n",
       "0 2019-08-01     A     719\n",
       "1 2019-08-02     A     619\n",
       "2 2019-08-03     A     507\n",
       "3 2019-08-04     A     717\n",
       "4 2019-08-05     A     756"
      ]
     },
     "execution_count": 32,
     "metadata": {},
     "output_type": "execute_result"
    }
   ],
   "source": [
    "visits_.head()"
   ]
  },
  {
   "cell_type": "code",
   "execution_count": 33,
   "id": "7a59910f",
   "metadata": {},
   "outputs": [],
   "source": [
    "doubles_list = list(orders_.groupby(['visitorId'])['group'].nunique().reset_index().query('group > 1')['visitorId'])"
   ]
  },
  {
   "cell_type": "code",
   "execution_count": 34,
   "id": "d3928851",
   "metadata": {},
   "outputs": [],
   "source": [
    "orders_ = orders_[-orders_['visitorId'].isin(doubles_list)]"
   ]
  },
  {
   "cell_type": "code",
   "execution_count": 35,
   "id": "2a031daf",
   "metadata": {},
   "outputs": [],
   "source": [
    "orders_a = orders_.query('group == \"A\"')\n",
    "orders_b = orders_.query('group == \"B\"')\n",
    "visits_a = visits_.query('group == \"A\"')\n",
    "visits_b = visits_.query('group == \"B\"')"
   ]
  },
  {
   "cell_type": "code",
   "execution_count": 36,
   "id": "ec6de6b6",
   "metadata": {},
   "outputs": [],
   "source": [
    "orders_a_rev = orders_a.groupby(['date'])['revenue'].sum().cumsum()\n",
    "orders_b_rev = orders_b.groupby(['date'])['revenue'].sum().cumsum()"
   ]
  },
  {
   "cell_type": "code",
   "execution_count": 37,
   "id": "b21648cf",
   "metadata": {},
   "outputs": [],
   "source": [
    "orders_a_size = orders_a.groupby(['date'])['transactionId'].sum().cumsum()\n",
    "orders_b_size = orders_b.groupby(['date'])['transactionId'].sum().cumsum()"
   ]
  },
  {
   "cell_type": "code",
   "execution_count": 38,
   "id": "b0d2b259",
   "metadata": {},
   "outputs": [],
   "source": [
    "avg_orders_a = orders_a_rev / orders_a_size\n",
    "avg_orders_b = orders_b_rev / orders_b_size"
   ]
  },
  {
   "cell_type": "code",
   "execution_count": 39,
   "id": "996f294c",
   "metadata": {
    "scrolled": false
   },
   "outputs": [
    {
     "data": {
      "image/png": "[encoded data removed]",
      "text/plain": [
       "<Figure size 1080x432 with 1 Axes>"
      ]
     },
     "metadata": {
      "needs_background": "light"
     },
     "output_type": "display_data"
    }
   ],
   "source": [
    "plt.rcParams[\"figure.figsize\"] = (15,6)\n",
    "plt.title('Cumulative Averege Order Size')\n",
    "avg_orders_a.plot(label = 'Group A')\n",
    "avg_orders_b.plot(label = 'Group B')\n",
    "plt.grid(axis='y')\n",
    "plt.ylabel('Order Size')\n",
    "plt.legend()\n",
    "plt.show()"
   ]
  },
  {
   "cell_type": "markdown",
   "id": "3487533e",
   "metadata": {},
   "source": [
    "**We can cee that Cumulative Averege Order Size for group B is much more higher in the second part of the test as well.**"
   ]
  },
  {
   "cell_type": "markdown",
   "id": "12df00ae",
   "metadata": {},
   "source": [
    " - **Graphing the relative difference in cumulative average order size for group B compared with group A.**"
   ]
  },
  {
   "cell_type": "code",
   "execution_count": 40,
   "id": "a7fa9e61",
   "metadata": {},
   "outputs": [],
   "source": [
    "rel_diff = (avg_orders_b / avg_orders_a) - 1"
   ]
  },
  {
   "cell_type": "code",
   "execution_count": 41,
   "id": "925542d4",
   "metadata": {
    "scrolled": false
   },
   "outputs": [
    {
     "data": {
      "image/png": "[encoded data removed]",
      "text/plain": [
       "<Figure size 1080x432 with 1 Axes>"
      ]
     },
     "metadata": {
      "needs_background": "light"
     },
     "output_type": "display_data"
    }
   ],
   "source": [
    "plt.rcParams[\"figure.figsize\"] = (15,6)\n",
    "\n",
    "plt.title('Relative Difference')\n",
    "rel_diff.plot(x = 'date')\n",
    "plt.ylabel('Difference')\n",
    "plt.axhline(y = 0, color= 'black', linestyle = '--')\n",
    "plt.grid()\n",
    "plt.show()"
   ]
  },
  {
   "cell_type": "markdown",
   "id": "f03b2053",
   "metadata": {},
   "source": [
    "**We can cee that Relative Difference hase changed from A to B in the first part of the test but after 18.09.2019 it`s on the B side.**"
   ]
  },
  {
   "cell_type": "markdown",
   "id": "96427013",
   "metadata": {},
   "source": [
    " - **Calculating each group's conversion rate as the ratio of orders to the number of visits for each day.**"
   ]
  },
  {
   "cell_type": "code",
   "execution_count": 42,
   "id": "b30938c2",
   "metadata": {
    "scrolled": true
   },
   "outputs": [
    {
     "data": {
      "text/html": [
       "<div>\n",
       "<style scoped>\n",
       "    .dataframe tbody tr th:only-of-type {\n",
       "        vertical-align: middle;\n",
       "    }\n",
       "\n",
       "    .dataframe tbody tr th {\n",
       "        vertical-align: top;\n",
       "    }\n",
       "\n",
       "    .dataframe thead th {\n",
       "        text-align: right;\n",
       "    }\n",
       "</style>\n",
       "<table border=\"1\" class=\"dataframe\">\n",
       "  <thead>\n",
       "    <tr style=\"text-align: right;\">\n",
       "      <th></th>\n",
       "      <th>date</th>\n",
       "      <th>group</th>\n",
       "      <th>visits</th>\n",
       "    </tr>\n",
       "  </thead>\n",
       "  <tbody>\n",
       "    <tr>\n",
       "      <th>0</th>\n",
       "      <td>2019-08-01</td>\n",
       "      <td>A</td>\n",
       "      <td>719</td>\n",
       "    </tr>\n",
       "    <tr>\n",
       "      <th>1</th>\n",
       "      <td>2019-08-02</td>\n",
       "      <td>A</td>\n",
       "      <td>619</td>\n",
       "    </tr>\n",
       "    <tr>\n",
       "      <th>2</th>\n",
       "      <td>2019-08-03</td>\n",
       "      <td>A</td>\n",
       "      <td>507</td>\n",
       "    </tr>\n",
       "    <tr>\n",
       "      <th>3</th>\n",
       "      <td>2019-08-04</td>\n",
       "      <td>A</td>\n",
       "      <td>717</td>\n",
       "    </tr>\n",
       "    <tr>\n",
       "      <th>4</th>\n",
       "      <td>2019-08-05</td>\n",
       "      <td>A</td>\n",
       "      <td>756</td>\n",
       "    </tr>\n",
       "  </tbody>\n",
       "</table>\n",
       "</div>"
      ],
      "text/plain": [
       "        date group  visits\n",
       "0 2019-08-01     A     719\n",
       "1 2019-08-02     A     619\n",
       "2 2019-08-03     A     507\n",
       "3 2019-08-04     A     717\n",
       "4 2019-08-05     A     756"
      ]
     },
     "execution_count": 42,
     "metadata": {},
     "output_type": "execute_result"
    }
   ],
   "source": [
    "visits.head()"
   ]
  },
  {
   "cell_type": "code",
   "execution_count": 43,
   "id": "c85918b9",
   "metadata": {},
   "outputs": [
    {
     "data": {
      "text/html": [
       "<div>\n",
       "<style scoped>\n",
       "    .dataframe tbody tr th:only-of-type {\n",
       "        vertical-align: middle;\n",
       "    }\n",
       "\n",
       "    .dataframe tbody tr th {\n",
       "        vertical-align: top;\n",
       "    }\n",
       "\n",
       "    .dataframe thead th {\n",
       "        text-align: right;\n",
       "    }\n",
       "</style>\n",
       "<table border=\"1\" class=\"dataframe\">\n",
       "  <thead>\n",
       "    <tr style=\"text-align: right;\">\n",
       "      <th></th>\n",
       "      <th>transactionId</th>\n",
       "      <th>visitorId</th>\n",
       "      <th>date</th>\n",
       "      <th>revenue</th>\n",
       "      <th>group</th>\n",
       "    </tr>\n",
       "  </thead>\n",
       "  <tbody>\n",
       "    <tr>\n",
       "      <th>0</th>\n",
       "      <td>3667963787</td>\n",
       "      <td>3312258926</td>\n",
       "      <td>2019-08-15</td>\n",
       "      <td>30.4</td>\n",
       "      <td>B</td>\n",
       "    </tr>\n",
       "    <tr>\n",
       "      <th>1</th>\n",
       "      <td>2804400009</td>\n",
       "      <td>3642806036</td>\n",
       "      <td>2019-08-15</td>\n",
       "      <td>15.2</td>\n",
       "      <td>B</td>\n",
       "    </tr>\n",
       "    <tr>\n",
       "      <th>3</th>\n",
       "      <td>3797467345</td>\n",
       "      <td>1196621759</td>\n",
       "      <td>2019-08-15</td>\n",
       "      <td>155.1</td>\n",
       "      <td>B</td>\n",
       "    </tr>\n",
       "    <tr>\n",
       "      <th>4</th>\n",
       "      <td>2282983706</td>\n",
       "      <td>2322279887</td>\n",
       "      <td>2019-08-15</td>\n",
       "      <td>40.5</td>\n",
       "      <td>B</td>\n",
       "    </tr>\n",
       "    <tr>\n",
       "      <th>5</th>\n",
       "      <td>182168103</td>\n",
       "      <td>935554773</td>\n",
       "      <td>2019-08-15</td>\n",
       "      <td>35.0</td>\n",
       "      <td>B</td>\n",
       "    </tr>\n",
       "  </tbody>\n",
       "</table>\n",
       "</div>"
      ],
      "text/plain": [
       "   transactionId   visitorId       date  revenue group\n",
       "0     3667963787  3312258926 2019-08-15     30.4     B\n",
       "1     2804400009  3642806036 2019-08-15     15.2     B\n",
       "3     3797467345  1196621759 2019-08-15    155.1     B\n",
       "4     2282983706  2322279887 2019-08-15     40.5     B\n",
       "5      182168103   935554773 2019-08-15     35.0     B"
      ]
     },
     "execution_count": 43,
     "metadata": {},
     "output_type": "execute_result"
    }
   ],
   "source": [
    "orders.head()"
   ]
  },
  {
   "cell_type": "code",
   "execution_count": 44,
   "id": "670789bf",
   "metadata": {},
   "outputs": [],
   "source": [
    "visits_by_group = pd.pivot_table(visits, values = 'visits', index = 'date', columns = 'group', aggfunc = np.sum)\n"
   ]
  },
  {
   "cell_type": "code",
   "execution_count": 45,
   "id": "b6a16664",
   "metadata": {},
   "outputs": [],
   "source": [
    "visits_by_group = pd.DataFrame(visits_by_group.to_records())"
   ]
  },
  {
   "cell_type": "code",
   "execution_count": 46,
   "id": "dda016ec",
   "metadata": {},
   "outputs": [],
   "source": [
    "orders_by_group = pd.pivot_table(orders, values = \"transactionId\", index = \"date\", columns = \"group\", aggfunc = 'count')"
   ]
  },
  {
   "cell_type": "code",
   "execution_count": 47,
   "id": "11de71b5",
   "metadata": {},
   "outputs": [],
   "source": [
    "orders_by_group = pd.DataFrame(orders_by_group.to_records())"
   ]
  },
  {
   "cell_type": "code",
   "execution_count": 48,
   "id": "9e9a85d1",
   "metadata": {},
   "outputs": [
    {
     "data": {
      "text/html": [
       "<div>\n",
       "<style scoped>\n",
       "    .dataframe tbody tr th:only-of-type {\n",
       "        vertical-align: middle;\n",
       "    }\n",
       "\n",
       "    .dataframe tbody tr th {\n",
       "        vertical-align: top;\n",
       "    }\n",
       "\n",
       "    .dataframe thead th {\n",
       "        text-align: right;\n",
       "    }\n",
       "</style>\n",
       "<table border=\"1\" class=\"dataframe\">\n",
       "  <thead>\n",
       "    <tr style=\"text-align: right;\">\n",
       "      <th></th>\n",
       "      <th>date</th>\n",
       "      <th>A</th>\n",
       "      <th>B</th>\n",
       "    </tr>\n",
       "  </thead>\n",
       "  <tbody>\n",
       "    <tr>\n",
       "      <th>0</th>\n",
       "      <td>2019-08-01</td>\n",
       "      <td>23</td>\n",
       "      <td>17</td>\n",
       "    </tr>\n",
       "    <tr>\n",
       "      <th>1</th>\n",
       "      <td>2019-08-02</td>\n",
       "      <td>19</td>\n",
       "      <td>23</td>\n",
       "    </tr>\n",
       "    <tr>\n",
       "      <th>2</th>\n",
       "      <td>2019-08-03</td>\n",
       "      <td>24</td>\n",
       "      <td>14</td>\n",
       "    </tr>\n",
       "    <tr>\n",
       "      <th>3</th>\n",
       "      <td>2019-08-04</td>\n",
       "      <td>11</td>\n",
       "      <td>14</td>\n",
       "    </tr>\n",
       "    <tr>\n",
       "      <th>4</th>\n",
       "      <td>2019-08-05</td>\n",
       "      <td>22</td>\n",
       "      <td>21</td>\n",
       "    </tr>\n",
       "  </tbody>\n",
       "</table>\n",
       "</div>"
      ],
      "text/plain": [
       "        date   A   B\n",
       "0 2019-08-01  23  17\n",
       "1 2019-08-02  19  23\n",
       "2 2019-08-03  24  14\n",
       "3 2019-08-04  11  14\n",
       "4 2019-08-05  22  21"
      ]
     },
     "execution_count": 48,
     "metadata": {},
     "output_type": "execute_result"
    }
   ],
   "source": [
    "orders_by_group.head()"
   ]
  },
  {
   "cell_type": "code",
   "execution_count": 49,
   "id": "bade4adb",
   "metadata": {},
   "outputs": [
    {
     "data": {
      "text/html": [
       "<div>\n",
       "<style scoped>\n",
       "    .dataframe tbody tr th:only-of-type {\n",
       "        vertical-align: middle;\n",
       "    }\n",
       "\n",
       "    .dataframe tbody tr th {\n",
       "        vertical-align: top;\n",
       "    }\n",
       "\n",
       "    .dataframe thead th {\n",
       "        text-align: right;\n",
       "    }\n",
       "</style>\n",
       "<table border=\"1\" class=\"dataframe\">\n",
       "  <thead>\n",
       "    <tr style=\"text-align: right;\">\n",
       "      <th></th>\n",
       "      <th>date</th>\n",
       "      <th>A</th>\n",
       "      <th>B</th>\n",
       "    </tr>\n",
       "  </thead>\n",
       "  <tbody>\n",
       "    <tr>\n",
       "      <th>0</th>\n",
       "      <td>2019-08-01</td>\n",
       "      <td>719</td>\n",
       "      <td>713</td>\n",
       "    </tr>\n",
       "    <tr>\n",
       "      <th>1</th>\n",
       "      <td>2019-08-02</td>\n",
       "      <td>619</td>\n",
       "      <td>581</td>\n",
       "    </tr>\n",
       "    <tr>\n",
       "      <th>2</th>\n",
       "      <td>2019-08-03</td>\n",
       "      <td>507</td>\n",
       "      <td>509</td>\n",
       "    </tr>\n",
       "    <tr>\n",
       "      <th>3</th>\n",
       "      <td>2019-08-04</td>\n",
       "      <td>717</td>\n",
       "      <td>770</td>\n",
       "    </tr>\n",
       "    <tr>\n",
       "      <th>4</th>\n",
       "      <td>2019-08-05</td>\n",
       "      <td>756</td>\n",
       "      <td>707</td>\n",
       "    </tr>\n",
       "  </tbody>\n",
       "</table>\n",
       "</div>"
      ],
      "text/plain": [
       "        date    A    B\n",
       "0 2019-08-01  719  713\n",
       "1 2019-08-02  619  581\n",
       "2 2019-08-03  507  509\n",
       "3 2019-08-04  717  770\n",
       "4 2019-08-05  756  707"
      ]
     },
     "execution_count": 49,
     "metadata": {},
     "output_type": "execute_result"
    }
   ],
   "source": [
    "visits_by_group.head()"
   ]
  },
  {
   "cell_type": "code",
   "execution_count": 50,
   "id": "410bb768",
   "metadata": {},
   "outputs": [],
   "source": [
    "conversion_a = orders_by_group['A'] / visits_by_group['A']\n",
    "conversion_b = orders_by_group['B'] / visits_by_group['B']"
   ]
  },
  {
   "cell_type": "code",
   "execution_count": 51,
   "id": "d34ad25a",
   "metadata": {},
   "outputs": [],
   "source": [
    "dates =  visits_by_group['date']"
   ]
  },
  {
   "cell_type": "code",
   "execution_count": 52,
   "id": "ee81d8dd",
   "metadata": {},
   "outputs": [
    {
     "data": {
      "text/plain": [
       "0    0.031989\n",
       "1    0.030695\n",
       "2    0.047337\n",
       "3    0.015342\n",
       "4    0.029101\n",
       "Name: A, dtype: float64"
      ]
     },
     "execution_count": 52,
     "metadata": {},
     "output_type": "execute_result"
    }
   ],
   "source": [
    "conversion_a.head() "
   ]
  },
  {
   "cell_type": "code",
   "execution_count": 53,
   "id": "1fb5774c",
   "metadata": {},
   "outputs": [
    {
     "data": {
      "text/plain": [
       "0    0.023843\n",
       "1    0.039587\n",
       "2    0.027505\n",
       "3    0.018182\n",
       "4    0.029703\n",
       "Name: B, dtype: float64"
      ]
     },
     "execution_count": 53,
     "metadata": {},
     "output_type": "execute_result"
    }
   ],
   "source": [
    "conversion_b.head()"
   ]
  },
  {
   "cell_type": "code",
   "execution_count": 54,
   "id": "5d467baf",
   "metadata": {},
   "outputs": [
    {
     "name": "stdout",
     "output_type": "stream",
     "text": [
      "0.025890306958716497\n"
     ]
    }
   ],
   "source": [
    "print(statistics.mean(conversion_a))"
   ]
  },
  {
   "cell_type": "code",
   "execution_count": 55,
   "id": "577e4216",
   "metadata": {},
   "outputs": [
    {
     "name": "stdout",
     "output_type": "stream",
     "text": [
      "0.03042400280520272\n"
     ]
    }
   ],
   "source": [
    "print(statistics.mean(conversion_b))"
   ]
  },
  {
   "cell_type": "markdown",
   "id": "d0596cc0",
   "metadata": {},
   "source": [
    "**We can cee that averege conversion rate conversion rate for group B is slightly bigger than for group A.**"
   ]
  },
  {
   "cell_type": "markdown",
   "id": "c9de058b",
   "metadata": {},
   "source": [
    "**Calculating cumulative conversion:**"
   ]
  },
  {
   "cell_type": "markdown",
   "id": "9df7581d",
   "metadata": {},
   "source": [
    " - **Ploting the daily conversion rates of the two groups and describe the difference. Drawing conclusions and making conjectures.**"
   ]
  },
  {
   "cell_type": "code",
   "execution_count": 56,
   "id": "e3bc31ed",
   "metadata": {
    "scrolled": false
   },
   "outputs": [
    {
     "data": {
      "image/png": "[encoded data removed]",
      "text/plain": [
       "<Figure size 1296x648 with 1 Axes>"
      ]
     },
     "metadata": {
      "needs_background": "light"
     },
     "output_type": "display_data"
    }
   ],
   "source": [
    "plt.rcParams[\"figure.figsize\"] = (18,9)\n",
    "conversion_a_cum = conversion_a.cumsum()\n",
    "conversion_b_cum = conversion_b.cumsum()\n",
    "plt.plot(dates, conversion_a, label='A')\n",
    "plt.plot(dates, conversion_b, label='B')\n",
    "plt.legend()\n",
    "plt.grid()\n",
    "plt.title('Conversion Rate By Group/Date',fontsize=16)\n",
    "plt.xlabel('Date')\n",
    "plt.ylabel('Conversion Rate By Group')\n",
    "plt.xticks(rotation=45)\n",
    "plt.show()"
   ]
  },
  {
   "cell_type": "markdown",
   "id": "542bfa4e",
   "metadata": {},
   "source": [
    "**Here we can`t cee big difference between two groups**"
   ]
  },
  {
   "cell_type": "markdown",
   "id": "6f2e6a44",
   "metadata": {},
   "source": [
    "**Calculating cumulative conversion:**"
   ]
  },
  {
   "cell_type": "code",
   "execution_count": 57,
   "id": "0d98696d",
   "metadata": {},
   "outputs": [],
   "source": [
    "conversion_a_cum = conversion_a.cumsum()\n",
    "conversion_b_cum = conversion_b.cumsum()"
   ]
  },
  {
   "cell_type": "code",
   "execution_count": 58,
   "id": "bb71c671",
   "metadata": {
    "scrolled": false
   },
   "outputs": [
    {
     "data": {
      "image/png": "[encoded data removed]",
      "text/plain": [
       "<Figure size 1296x648 with 1 Axes>"
      ]
     },
     "metadata": {
      "needs_background": "light"
     },
     "output_type": "display_data"
    }
   ],
   "source": [
    "plt.rcParams[\"figure.figsize\"] = (18,9)\n",
    "plt.plot(dates, conversion_b_cum / conversion_a_cum - 1, label = 'Relative Gain Cumulative Conversion B/A' )\n",
    "plt.legend()\n",
    "plt.grid()\n",
    "plt.axhline(y = 0, color = 'black', linestyle = '--')\n",
    "plt.axhline(y = -0.1, color = 'gray', linestyle = '--')\n",
    "plt.xlabel('Date')\n",
    "plt.ylabel('Relative Gain Conversion')\n",
    "plt.show()"
   ]
  },
  {
   "cell_type": "markdown",
   "id": "6567441c",
   "metadata": {},
   "source": [
    "**We can cee that group B leading above group A Relative Gein of Cumulative Conversion** "
   ]
  },
  {
   "cell_type": "markdown",
   "id": "8b319098",
   "metadata": {},
   "source": [
    "- **Plot a scatter chart of the number of orders per user. Make conclusions and conjectures.**\n"
   ]
  },
  {
   "cell_type": "code",
   "execution_count": 59,
   "id": "02b6a47e",
   "metadata": {},
   "outputs": [],
   "source": [
    "order_user_a = orders_a.groupby(['visitorId'])['transactionId'].count()\n",
    "order_user_b = orders_b.groupby(['visitorId'])['transactionId'].count()"
   ]
  },
  {
   "cell_type": "code",
   "execution_count": 60,
   "id": "0bcda591",
   "metadata": {},
   "outputs": [
    {
     "data": {
      "image/png": "[encoded data removed]",
      "text/plain": [
       "<Figure size 1296x648 with 1 Axes>"
      ]
     },
     "metadata": {
      "needs_background": "light"
     },
     "output_type": "display_data"
    }
   ],
   "source": [
    "plt.rcParams[\"figure.figsize\"] = (18,9)\n",
    "plt.title('Orders Per User',fontsize=16)\n",
    "order_user_a.plot(style='.', label = 'Group A')\n",
    "order_user_b.plot(style='.', label = 'Group B')\n",
    "plt.xlabel('Users')\n",
    "plt.ylabel('Orders')\n",
    "plt.legend()\n",
    "plt.show()\n"
   ]
  },
  {
   "cell_type": "markdown",
   "id": "84b2926a",
   "metadata": {},
   "source": [
    "- **Calculating the 95th and 99th percentiles for the number of orders per user.** "
   ]
  },
  {
   "cell_type": "code",
   "execution_count": 61,
   "id": "d1af4913",
   "metadata": {
    "scrolled": true
   },
   "outputs": [
    {
     "data": {
      "text/html": [
       "<div>\n",
       "<style scoped>\n",
       "    .dataframe tbody tr th:only-of-type {\n",
       "        vertical-align: middle;\n",
       "    }\n",
       "\n",
       "    .dataframe tbody tr th {\n",
       "        vertical-align: top;\n",
       "    }\n",
       "\n",
       "    .dataframe thead th {\n",
       "        text-align: right;\n",
       "    }\n",
       "</style>\n",
       "<table border=\"1\" class=\"dataframe\">\n",
       "  <thead>\n",
       "    <tr style=\"text-align: right;\">\n",
       "      <th></th>\n",
       "      <th>visitorId</th>\n",
       "      <th>orders</th>\n",
       "    </tr>\n",
       "  </thead>\n",
       "  <tbody>\n",
       "    <tr>\n",
       "      <th>0</th>\n",
       "      <td>5114589</td>\n",
       "      <td>1</td>\n",
       "    </tr>\n",
       "    <tr>\n",
       "      <th>1</th>\n",
       "      <td>6958315</td>\n",
       "      <td>1</td>\n",
       "    </tr>\n",
       "    <tr>\n",
       "      <th>2</th>\n",
       "      <td>11685486</td>\n",
       "      <td>1</td>\n",
       "    </tr>\n",
       "    <tr>\n",
       "      <th>3</th>\n",
       "      <td>39475350</td>\n",
       "      <td>1</td>\n",
       "    </tr>\n",
       "    <tr>\n",
       "      <th>4</th>\n",
       "      <td>47206413</td>\n",
       "      <td>1</td>\n",
       "    </tr>\n",
       "  </tbody>\n",
       "</table>\n",
       "</div>"
      ],
      "text/plain": [
       "   visitorId  orders\n",
       "0    5114589       1\n",
       "1    6958315       1\n",
       "2   11685486       1\n",
       "3   39475350       1\n",
       "4   47206413       1"
      ]
     },
     "execution_count": 61,
     "metadata": {},
     "output_type": "execute_result"
    }
   ],
   "source": [
    "orders_by_users = orders.drop(['group','revenue','date'],axis=1).groupby('visitorId', as_index=False).agg({'transactionId':[\"count\"]})\n",
    "orders_by_users.columns = ['visitorId','orders']\n",
    "orders_by_users.head()"
   ]
  },
  {
   "cell_type": "code",
   "execution_count": 62,
   "id": "dc90eda2",
   "metadata": {
    "scrolled": true
   },
   "outputs": [
    {
     "name": "stdout",
     "output_type": "stream",
     "text": [
      "Persentiles: 90, 95, 99 : [1. 1. 2.]\n"
     ]
    }
   ],
   "source": [
    "print('Persentiles: 90, 95, 99 :', np.percentile(orders_by_users['orders'], [90, 95, 99]))"
   ]
  },
  {
   "cell_type": "markdown",
   "id": "eb96c1e9",
   "metadata": {},
   "source": [
    "- **Define the point at which a data point becomes an anomaly.**"
   ]
  },
  {
   "cell_type": "markdown",
   "id": "90147ddc",
   "metadata": {},
   "source": [
    "**Most of users have only one order, only one persent of users have 2 orders ore more. It becomes an anomaly than user have 2 orders ore more.**"
   ]
  },
  {
   "cell_type": "markdown",
   "id": "91ec75e0",
   "metadata": {},
   "source": [
    "- **Plot a scatter chart of order prices. Make conclusions and conjectures.**"
   ]
  },
  {
   "cell_type": "code",
   "execution_count": 63,
   "id": "8f02d166",
   "metadata": {
    "scrolled": false
   },
   "outputs": [
    {
     "data": {
      "image/png": "[encoded data removed]",
      "text/plain": [
       "<Figure size 1296x648 with 1 Axes>"
      ]
     },
     "metadata": {
      "needs_background": "light"
     },
     "output_type": "display_data"
    }
   ],
   "source": [
    "plt.rcParams[\"figure.figsize\"] = (18,9)\n",
    "plt.title('Order Price',fontsize=16)\n",
    "plt.scatter(orders_a['transactionId'],orders_a['revenue'], label = 'Group A', alpha = 0.8)\n",
    "plt.scatter(orders_b['transactionId'],orders_b['revenue'], label = 'Group B', alpha = 0.5)\n",
    "plt.xlabel('Revenue')\n",
    "plt.ylabel('Orders')\n",
    "#plt.ylim(1,2000)\n",
    "plt.legend()\n",
    "plt.show()"
   ]
  },
  {
   "cell_type": "markdown",
   "id": "94e509b5",
   "metadata": {},
   "source": [
    "**Here we can cee all the data with anomalies**"
   ]
  },
  {
   "cell_type": "code",
   "execution_count": 64,
   "id": "faee754a",
   "metadata": {
    "scrolled": true
   },
   "outputs": [
    {
     "data": {
      "image/png": "[encoded data removed]",
      "text/plain": [
       "<Figure size 1296x648 with 1 Axes>"
      ]
     },
     "metadata": {
      "needs_background": "light"
     },
     "output_type": "display_data"
    }
   ],
   "source": [
    "plt.rcParams[\"figure.figsize\"] = (18,9)\n",
    "plt.title('Order Price',fontsize=16)\n",
    "plt.scatter(orders_a['transactionId'],orders_a['revenue'], label = 'Group A', alpha = 0.8)\n",
    "plt.scatter(orders_b['transactionId'],orders_b['revenue'], label = 'Group B', alpha = 0.5)\n",
    "plt.xlabel('Revenue')\n",
    "plt.ylabel('Orders')\n",
    "plt.ylim(1,2000)\n",
    "plt.legend()\n",
    "plt.show()"
   ]
  },
  {
   "cell_type": "markdown",
   "id": "f8aae51e",
   "metadata": {},
   "source": [
    "**In this scatter plot we can cee more information about orders but we can`t cee the anomalies**"
   ]
  },
  {
   "cell_type": "code",
   "execution_count": 65,
   "id": "7f236010",
   "metadata": {},
   "outputs": [
    {
     "data": {
      "image/png": "[encoded data removed]",
      "text/plain": [
       "<Figure size 1296x648 with 1 Axes>"
      ]
     },
     "metadata": {
      "needs_background": "light"
     },
     "output_type": "display_data"
    }
   ],
   "source": [
    "# the reviewer's cell:\n",
    "plt.rcParams[\"figure.figsize\"] = (18,9)\n",
    "plt.title('Order Price',fontsize=16)\n",
    "plt.scatter(orders_a['transactionId'],orders_a['revenue'], label = 'Group A', alpha = 0.8)\n",
    "plt.scatter(orders_b['transactionId'],orders_b['revenue'], label = 'Group B', alpha = 0.5)\n",
    "plt.xlabel('Revenue')\n",
    "plt.ylabel('Orders')\n",
    "plt.legend()\n",
    "plt.show()"
   ]
  },
  {
   "cell_type": "markdown",
   "id": "7129baf1",
   "metadata": {},
   "source": [
    " - **Calculating the 95th and 99th percentiles of order prices.**"
   ]
  },
  {
   "cell_type": "code",
   "execution_count": 66,
   "id": "e3f0d0bf",
   "metadata": {},
   "outputs": [
    {
     "name": "stdout",
     "output_type": "stream",
     "text": [
      "Persentiles: 90, 95, 99 : [280.8   414.275 830.3  ]\n"
     ]
    }
   ],
   "source": [
    "print('Persentiles: 90, 95, 99 :', np.percentile(orders['revenue'], [90, 95, 99]))"
   ]
  },
  {
   "cell_type": "code",
   "execution_count": 67,
   "id": "086f103a",
   "metadata": {},
   "outputs": [
    {
     "data": {
      "text/html": [
       "<div>\n",
       "<style scoped>\n",
       "    .dataframe tbody tr th:only-of-type {\n",
       "        vertical-align: middle;\n",
       "    }\n",
       "\n",
       "    .dataframe tbody tr th {\n",
       "        vertical-align: top;\n",
       "    }\n",
       "\n",
       "    .dataframe thead th {\n",
       "        text-align: right;\n",
       "    }\n",
       "</style>\n",
       "<table border=\"1\" class=\"dataframe\">\n",
       "  <thead>\n",
       "    <tr style=\"text-align: right;\">\n",
       "      <th></th>\n",
       "      <th>transactionId</th>\n",
       "      <th>visitorId</th>\n",
       "      <th>date</th>\n",
       "      <th>revenue</th>\n",
       "      <th>group</th>\n",
       "    </tr>\n",
       "  </thead>\n",
       "  <tbody>\n",
       "    <tr>\n",
       "      <th>0</th>\n",
       "      <td>3667963787</td>\n",
       "      <td>3312258926</td>\n",
       "      <td>2019-08-15</td>\n",
       "      <td>30.4</td>\n",
       "      <td>B</td>\n",
       "    </tr>\n",
       "    <tr>\n",
       "      <th>1</th>\n",
       "      <td>2804400009</td>\n",
       "      <td>3642806036</td>\n",
       "      <td>2019-08-15</td>\n",
       "      <td>15.2</td>\n",
       "      <td>B</td>\n",
       "    </tr>\n",
       "    <tr>\n",
       "      <th>3</th>\n",
       "      <td>3797467345</td>\n",
       "      <td>1196621759</td>\n",
       "      <td>2019-08-15</td>\n",
       "      <td>155.1</td>\n",
       "      <td>B</td>\n",
       "    </tr>\n",
       "    <tr>\n",
       "      <th>4</th>\n",
       "      <td>2282983706</td>\n",
       "      <td>2322279887</td>\n",
       "      <td>2019-08-15</td>\n",
       "      <td>40.5</td>\n",
       "      <td>B</td>\n",
       "    </tr>\n",
       "    <tr>\n",
       "      <th>5</th>\n",
       "      <td>182168103</td>\n",
       "      <td>935554773</td>\n",
       "      <td>2019-08-15</td>\n",
       "      <td>35.0</td>\n",
       "      <td>B</td>\n",
       "    </tr>\n",
       "  </tbody>\n",
       "</table>\n",
       "</div>"
      ],
      "text/plain": [
       "   transactionId   visitorId       date  revenue group\n",
       "0     3667963787  3312258926 2019-08-15     30.4     B\n",
       "1     2804400009  3642806036 2019-08-15     15.2     B\n",
       "3     3797467345  1196621759 2019-08-15    155.1     B\n",
       "4     2282983706  2322279887 2019-08-15     40.5     B\n",
       "5      182168103   935554773 2019-08-15     35.0     B"
      ]
     },
     "execution_count": 67,
     "metadata": {},
     "output_type": "execute_result"
    }
   ],
   "source": [
    "orders.head()"
   ]
  },
  {
   "cell_type": "markdown",
   "id": "b22d9208",
   "metadata": {},
   "source": [
    "- **Define the point at which a data point becomes an anomaly.**"
   ]
  },
  {
   "cell_type": "markdown",
   "id": "e7390d3c",
   "metadata": {},
   "source": [
    "**Most of our observations have ravenu lower than 280.8, wich means that only 10% have more than that. Omly 1% have more than 830.3(it`s an anomaly). We should find way for averege order to bring more ravenu**"
   ]
  },
  {
   "cell_type": "markdown",
   "id": "1bbf4291",
   "metadata": {},
   "source": [
    " - **Find the statistical significance of the difference in conversion between the groups using the raw data.**"
   ]
  },
  {
   "cell_type": "markdown",
   "id": "a1ec24e3",
   "metadata": {},
   "source": [
    "**H0: Averege Conversion Rate are equal for both groups.**\n",
    "<br>\n",
    "**H1: Averege Conversion Rate are NOT equal for both groups.**"
   ]
  },
  {
   "cell_type": "code",
   "execution_count": 68,
   "id": "dfa2a43a",
   "metadata": {},
   "outputs": [],
   "source": [
    "alpha = .05"
   ]
  },
  {
   "cell_type": "code",
   "execution_count": 69,
   "id": "93c85488",
   "metadata": {},
   "outputs": [],
   "source": [
    "ordersByUsersA = orders[orders['group']=='A'].groupby('visitorId', as_index=False).agg({'transactionId' : pd.Series.nunique})\n",
    "ordersByUsersA.columns = ['visitorId', 'transactionId']\n",
    "\n",
    "ordersByUsersB = orders[orders['group']=='B'].groupby('visitorId', as_index=False).agg({'transactionId' : pd.Series.nunique})\n",
    "ordersByUsersB.columns = ['visitorId', 'transactionId']"
   ]
  },
  {
   "cell_type": "code",
   "execution_count": 70,
   "id": "5961e01b",
   "metadata": {},
   "outputs": [],
   "source": [
    "sampleA = pd.concat([ordersByUsersA['transactionId'],pd.Series(0, index=np.arange(visits[visits['group']=='A']['visits'].sum() - len(ordersByUsersA['transactionId'])), name='transactionId')],axis=0)\n",
    "\n",
    "sampleB = pd.concat([ordersByUsersB['transactionId'],pd.Series(0, index=np.arange(visits[visits['group']=='B']['visits'].sum() - len(ordersByUsersB['transactionId'])), name='transactionId')],axis=0)"
   ]
  },
  {
   "cell_type": "code",
   "execution_count": 71,
   "id": "d191f010",
   "metadata": {},
   "outputs": [
    {
     "name": "stdout",
     "output_type": "stream",
     "text": [
      "p-value:  0.011\n",
      "Relative gein:  0.160\n",
      "alpa =  0.05\n"
     ]
    }
   ],
   "source": [
    "result = stats.mannwhitneyu(sampleA, sampleB)[1]\n",
    "\n",
    "\n",
    "print('p-value: ',\"{0:.3f}\".format(result))\n",
    "print('Relative gein: ',\"{0:.3f}\".format(sampleB.mean()/sampleA.mean()-1))\n",
    "print('alpa = ',alpha)"
   ]
  },
  {
   "cell_type": "code",
   "execution_count": 72,
   "id": "9903e596",
   "metadata": {},
   "outputs": [
    {
     "name": "stdout",
     "output_type": "stream",
     "text": [
      "p-value < alpha : We  Reject H0\n"
     ]
    }
   ],
   "source": [
    "if(result < alpha):\n",
    "    print('p-value < alpha : We  Reject H0')\n",
    "else:\n",
    "    print('p-value > alpha : Fail to Reject H0')"
   ]
  },
  {
   "cell_type": "markdown",
   "id": "4a1644b7",
   "metadata": {},
   "source": [
    "**So we reject H0: the groups are not the same. We can cee that Relative Gein is 16% to group B side. So group B shows better resolts with RAW data.**"
   ]
  },
  {
   "cell_type": "markdown",
   "id": "8c7c0c9c",
   "metadata": {},
   "source": [
    "- **Find the statistical significance of the difference in average order size between the groups using the raw data.**"
   ]
  },
  {
   "cell_type": "markdown",
   "id": "6844b0ad",
   "metadata": {},
   "source": [
    "**H0: Averege order sizes are equal for both groups.**\n",
    "<br>\n",
    "**H1: Averege order sizes are NOT equal for both groups.**"
   ]
  },
  {
   "cell_type": "code",
   "execution_count": 73,
   "id": "85d5d830",
   "metadata": {},
   "outputs": [
    {
     "name": "stdout",
     "output_type": "stream",
     "text": [
      "Significance of Difference:  0.278\n"
     ]
    }
   ],
   "source": [
    "print('Significance of Difference: ','{0:.3f}'.format(orders[orders['group']=='B']['revenue'].mean()/orders[orders['group']=='A']['revenue'].mean()-1)) "
   ]
  },
  {
   "cell_type": "code",
   "execution_count": 74,
   "id": "545ff28a",
   "metadata": {},
   "outputs": [],
   "source": [
    "result = stats.mannwhitneyu(orders[orders['group']=='A']['revenue'], orders[orders['group']=='B']['revenue'])[1]"
   ]
  },
  {
   "cell_type": "code",
   "execution_count": 75,
   "id": "4fed7a5a",
   "metadata": {},
   "outputs": [
    {
     "name": "stdout",
     "output_type": "stream",
     "text": [
      "p-value: 0.862\n",
      "alpa =  0.05\n"
     ]
    }
   ],
   "source": [
    "print('p-value: ''{0:.3f}'.format(result))\n",
    "print('alpa = ',alpha)"
   ]
  },
  {
   "cell_type": "code",
   "execution_count": 76,
   "id": "105366e6",
   "metadata": {},
   "outputs": [
    {
     "name": "stdout",
     "output_type": "stream",
     "text": [
      "p-value > alpha : Fail to Reject H0\n"
     ]
    }
   ],
   "source": [
    "if(result < alpha):\n",
    "    print('p-value < alpha : We  Reject H0')\n",
    "else:\n",
    "    print('p-value > alpha : Fail to Reject H0')"
   ]
  },
  {
   "cell_type": "markdown",
   "id": "242b56a6",
   "metadata": {},
   "source": [
    "**Here we can`t regect the H0 that averege order sizes are equal for both groups, but we can cee that group B bigger in 28% from group B.**"
   ]
  },
  {
   "cell_type": "markdown",
   "id": "d41397bb",
   "metadata": {},
   "source": [
    "- **Find the statistical significance of the difference in conversion between the groups using the filtered data**."
   ]
  },
  {
   "cell_type": "markdown",
   "id": "135535ca",
   "metadata": {},
   "source": [
    "**Here we have to remove all the anomalies we have recorded in previous steps:**"
   ]
  },
  {
   "cell_type": "markdown",
   "id": "f2fefaf6",
   "metadata": {},
   "source": [
    "**Users that have more than 1 order are anomaly**"
   ]
  },
  {
   "cell_type": "code",
   "execution_count": 77,
   "id": "e0aea364",
   "metadata": {},
   "outputs": [],
   "source": [
    "usersWithManyOrders = pd.concat([ordersByUsersA[ordersByUsersA['transactionId'] > 1]['visitorId'], ordersByUsersB[ordersByUsersB['transactionId'] > 1]['visitorId']], axis = 0)"
   ]
  },
  {
   "cell_type": "markdown",
   "id": "0a1ac1b2",
   "metadata": {},
   "source": [
    "**Users that have more than 414.275 revenue are anomaly**"
   ]
  },
  {
   "cell_type": "code",
   "execution_count": 78,
   "id": "9ee015a0",
   "metadata": {},
   "outputs": [],
   "source": [
    "usersWithExpensiveOrders = orders[orders['revenue'] > 414.275]['visitorId']"
   ]
  },
  {
   "cell_type": "code",
   "execution_count": 79,
   "id": "3f292f8a",
   "metadata": {},
   "outputs": [],
   "source": [
    "abnormalUsers = pd.concat([usersWithManyOrders, usersWithExpensiveOrders], axis = 0).drop_duplicates().sort_values()\n",
    "\n"
   ]
  },
  {
   "cell_type": "code",
   "execution_count": 80,
   "id": "d4d5a0d1",
   "metadata": {},
   "outputs": [
    {
     "name": "stdout",
     "output_type": "stream",
     "text": [
      "568     113298937\n",
      "1099    148427295\n",
      "928     204675465\n",
      "33      249864742\n",
      "684     358944393\n",
      "Name: visitorId, dtype: int64\n",
      "(86,)\n"
     ]
    }
   ],
   "source": [
    "print(abnormalUsers.head())\n",
    "print(abnormalUsers.shape) "
   ]
  },
  {
   "cell_type": "code",
   "execution_count": 81,
   "id": "721b9370",
   "metadata": {},
   "outputs": [],
   "source": [
    "sampleAFiltered = pd.concat([ordersByUsersA[np.logical_not(ordersByUsersA['visitorId'].isin(abnormalUsers))]['transactionId'],pd.Series(0, index=np.arange(visits[visits['group']=='A']['visits'].sum() - len(ordersByUsersA['transactionId'])),name='transactionId')],axis=0)\n",
    "\n",
    "sampleBFiltered = pd.concat([ordersByUsersB[np.logical_not(ordersByUsersB['visitorId'].isin(abnormalUsers))]['transactionId'],pd.Series(0, index=np.arange(visits[visits['group']=='B']['visits'].sum() - len(ordersByUsersB['transactionId'])),name='transactionId')],axis=0)"
   ]
  },
  {
   "cell_type": "code",
   "execution_count": 82,
   "id": "23007514",
   "metadata": {},
   "outputs": [],
   "source": [
    "result = stats.mannwhitneyu(sampleAFiltered, sampleBFiltered)[1]"
   ]
  },
  {
   "cell_type": "code",
   "execution_count": 83,
   "id": "bc1ce916",
   "metadata": {},
   "outputs": [
    {
     "name": "stdout",
     "output_type": "stream",
     "text": [
      "p-value:  0.016\n",
      "alpa =  0.05\n",
      "Relative Gain:  0.174\n"
     ]
    }
   ],
   "source": [
    "print('p-value: ',\"{0:.3f}\".format(result))\n",
    "print('alpa = ',alpha)\n",
    "print('Relative Gain: ',\"{0:.3f}\".format(sampleBFiltered.mean()/sampleAFiltered.mean()-1))\n"
   ]
  },
  {
   "cell_type": "code",
   "execution_count": 84,
   "id": "01461dbd",
   "metadata": {},
   "outputs": [
    {
     "name": "stdout",
     "output_type": "stream",
     "text": [
      "p-value < alpha : We  Reject H0\n"
     ]
    }
   ],
   "source": [
    "if(result < alpha):\n",
    "    print('p-value < alpha : We  Reject H0')\n",
    "else:\n",
    "    print('p-value > alpha : Fail to Reject H0')"
   ]
  },
  {
   "cell_type": "markdown",
   "id": "f1d5c021",
   "metadata": {},
   "source": [
    "**Old Results:\n",
    "<br>\n",
    "p-value:  0.011\n",
    "<br>\n",
    "Relative gein:  0.160**\n"
   ]
  },
  {
   "cell_type": "markdown",
   "id": "59ab8d5c",
   "metadata": {},
   "source": [
    "**Here with FILTERED data we have very close resolts to test with RAW data.**"
   ]
  },
  {
   "cell_type": "markdown",
   "id": "7e52551b",
   "metadata": {},
   "source": [
    "- **Find the statistical significance of the difference in average order size between the groups using the filtered data.**"
   ]
  },
  {
   "cell_type": "code",
   "execution_count": 85,
   "id": "5ca96254",
   "metadata": {},
   "outputs": [],
   "source": [
    "result = stats.mannwhitneyu(\n",
    "    orders[np.logical_and(\n",
    "        orders['group']=='A',\n",
    "        np.logical_not(orders['visitorId'].isin(abnormalUsers)))]['revenue'],\n",
    "    orders[np.logical_and(\n",
    "        orders['group']=='B',\n",
    "        np.logical_not(orders['visitorId'].isin(abnormalUsers)))]['revenue'])[1]"
   ]
  },
  {
   "cell_type": "code",
   "execution_count": 86,
   "id": "9771ce4e",
   "metadata": {},
   "outputs": [
    {
     "name": "stdout",
     "output_type": "stream",
     "text": [
      "p-value:  0.771\n",
      "alpa =  0.05\n",
      "Significance of Difference:  -0.033\n"
     ]
    }
   ],
   "source": [
    "print('p-value: ','{0:.3f}'.format(result))\n",
    "print('alpa = ',alpha)\n",
    "\n",
    "print('Significance of Difference: ','{0:.3f}'.format(\n",
    "    orders[np.logical_and(orders['group']=='B',np.logical_not(orders['visitorId'].isin(abnormalUsers)))]['revenue'].mean()/\n",
    "    orders[np.logical_and(\n",
    "        orders['group']=='A',\n",
    "        np.logical_not(orders['visitorId'].isin(abnormalUsers)))]['revenue'].mean() - 1)) "
   ]
  },
  {
   "cell_type": "code",
   "execution_count": 87,
   "id": "350bd4ed",
   "metadata": {},
   "outputs": [
    {
     "name": "stdout",
     "output_type": "stream",
     "text": [
      "p-value > alpha : Fail to Reject H0\n"
     ]
    }
   ],
   "source": [
    "if(result < alpha):\n",
    "    print('p-value < alpha : We  Reject H0')\n",
    "else:\n",
    "    print('p-value > alpha : Fail to Reject H0')"
   ]
  },
  {
   "cell_type": "markdown",
   "id": "438e47ed",
   "metadata": {},
   "source": [
    "**In this test we can cee that group A is better in 3% then group B**"
   ]
  },
  {
   "cell_type": "markdown",
   "id": "100a053e",
   "metadata": {},
   "source": [
    "**Old Results:\n",
    "<br>\n",
    "p-value: 0.862\n",
    "<br>\n",
    "Significance of Difference:  0.278**    "
   ]
  },
  {
   "cell_type": "markdown",
   "id": "9b942470",
   "metadata": {},
   "source": [
    "   - **The possible decisions are:**\n",
    "<br>\n",
    "   \n",
    "   \n",
    "\n",
    "   **1.** Stop the test, consider one of the groups the leader.\n",
    "   <br>\n",
    "  \n",
    "   **2.** Stop the test, conclude that there is no difference between the groups.\n",
    "   <br>\n",
    "\n",
    "   **3.** Continue the test."
   ]
  },
  {
   "cell_type": "markdown",
   "id": "e58c318b",
   "metadata": {},
   "source": [
    "### Stop the test, consideing  the group B the leader.\n",
    "**In most of tastes and investigetions the group B shows best resolts then group A**"
   ]
  },
  {
   "cell_type": "markdown",
   "id": "14c56f00",
   "metadata": {},
   "source": [
    "### Conclusion:"
   ]
  },
  {
   "cell_type": "markdown",
   "id": "bf40afa2",
   "metadata": {},
   "source": [
    "#### Make sure to preprocess the data:\n",
    "\n",
    "<br>\n",
    "\n",
    "We separeted our data to columns using **(sep = \";\")**\n",
    "<br>\n",
    "\n",
    "Changed the datatype in **'date'** column from **object** to **datetime**\n",
    "<br>\n",
    "\n",
    "Converted the hypoteses dataset column names to **lowcase**\n",
    "<br>\n",
    "\n",
    "Deleted users observed in both groups: we can cee that **183 users they are in both groups**, so we decided to **remove them to be able to perform accurate calculations**\n",
    "<br>\n",
    "We have checjked our data for **duplicates**.There are **NONE duplicates** in our data."
   ]
  },
  {
   "cell_type": "markdown",
   "id": "8a6c6694",
   "metadata": {},
   "source": [
    "### Prioritizing Hypotheses"
   ]
  },
  {
   "cell_type": "markdown",
   "id": "54555e89",
   "metadata": {},
   "source": [
    "- **Applying the ICE framework to prioritize hypotheses.**\n",
    "- **Applying the RICE framework to prioritize hypotheses.**"
   ]
  },
  {
   "cell_type": "markdown",
   "id": "eaf89769",
   "metadata": {},
   "source": [
    "We can cee that **entire order have changed** then we used **RICE** instead **ICE**, because we added **'reach'** variable into our calcualations. Top 5 categories are the same in both list, but the order is different. **Only hypothes nomber 4** is on the last place in both lists. **For our task as online store we should take RISE** because it gives us **both 'reach' and 'impact' factor alltogether and more flexability in our investigations**."
   ]
  },
  {
   "cell_type": "markdown",
   "id": "9fc325d9",
   "metadata": {},
   "source": [
    "### A/B Test Analysis"
   ]
  },
  {
   "cell_type": "markdown",
   "id": "55b1cc36",
   "metadata": {},
   "source": [
    "**Graphing cumulative revenue by group. Make conclusions and conjectures:**\n",
    "<br>\n",
    "**We can cee that cumulative revenue metrics of group A low than thous of group B. Group B groving much harder in second part of the test(after 18.09.2019)**"
   ]
  },
  {
   "cell_type": "markdown",
   "id": "7743763f",
   "metadata": {},
   "source": [
    "**Graphing cumulative average order size by group. Make conclusions and conjectures:**\n",
    "<br>\n",
    "**We can cee that Cumulative Averege Order Size for group B is much more higher in the second part of the test as well.**"
   ]
  },
  {
   "cell_type": "markdown",
   "id": "d310063b",
   "metadata": {},
   "source": [
    "**Graphing the relative difference in cumulative average order size for group B compared with group A.**"
   ]
  },
  {
   "cell_type": "markdown",
   "id": "a3c655cb",
   "metadata": {},
   "source": [
    "**Calculating each group's conversion rate as the ratio of orders to the number of visits for each day:** \n",
    "<br>\n",
    "**We can cee that averege conversion rate conversion rate for group B is slightly bigger than for group A.**"
   ]
  },
  {
   "cell_type": "markdown",
   "id": "4ba02b74",
   "metadata": {},
   "source": [
    "**Ploting the daily conversion rates of the two groups and describe the difference. Drawing conclusions and making conjectures:**\n",
    "<br>\n",
    "**Here we can`t cee big difference between two groups**"
   ]
  },
  {
   "cell_type": "markdown",
   "id": "7da3b049",
   "metadata": {},
   "source": [
    "**Calculating cumulative conversion:**\n",
    "<br>\n",
    "**We can cee that group B leading above group A Relative Gein of Cumulative Conversion** "
   ]
  },
  {
   "cell_type": "markdown",
   "id": "e8b32bd0",
   "metadata": {},
   "source": [
    "**Plot a scatter chart of the number of orders per user. Make conclusions and conjectures:**\n",
    "<br>\n",
    "**Most of users have only one order, only one persent of users have 2 orders ore more. It becomes an anomaly than user have 2 orders ore more.**"
   ]
  },
  {
   "cell_type": "markdown",
   "id": "dda9124c",
   "metadata": {},
   "source": [
    "**Plot a scatter chart of order prices. Make conclusions and conjectures.**\n",
    "<br>\n",
    "**Most of our observations have ravenu lower than 280.8, wich means that only 10% have more than that. Omly 1% have more than 830.3(it`s an anomaly). We should find way for averege order to bring more ravenu**"
   ]
  },
  {
   "cell_type": "markdown",
   "id": "8c9f632f",
   "metadata": {},
   "source": [
    "**Find the statistical significance of the difference in conversion between the groups using the RAW data.**\n",
    "<br>\n",
    "**Relative gein:  0.160**\n",
    "<br>\n",
    "**p-value:  0.011**\n",
    "<br>\n",
    "**We reject the null hypotesys.**\n",
    "<br>\n",
    "**So we reject H0: the groups are not the same. We can cee that Relative Gein is 16% to group B side. So group B shows better resolts with RAW data.**"
   ]
  },
  {
   "cell_type": "markdown",
   "id": "e3f2f687",
   "metadata": {},
   "source": [
    "**Find the statistical significance of the difference in average order size between the groups using the RAW data.**\n",
    "<br>\n",
    "**Significance of Difference:  0.278**\n",
    "<br>\n",
    "**p-value: 0.862**\n",
    "<br>\n",
    "**We can`t reject the null hypotesys.**\n",
    "<br>\n",
    "**Here we can`t regect the H0 that averege order sizes are equal for both groups, but we can cee that group B bigger in 28% from group B.**"
   ]
  },
  {
   "cell_type": "markdown",
   "id": "a8b0ad94",
   "metadata": {},
   "source": [
    "**Find the statistical significance of the difference in conversion between the groups using the FILTERED data**.\n",
    "<br>\n",
    "**Here we have to remove all the anomalies we have recorded in previous steps:**\n",
    "<br>\n",
    "**Users that have more than 1 order are anomaly**\n",
    "<br>\n",
    "**Users that have more than 414.275 revenue are anomaly**\n",
    "<br>\n",
    "**p-value:  0.016**\n",
    "<br>\n",
    "**Relative Gain:  0.174**\n",
    "<br>\n",
    "**We reject the null hypotesys.**\n",
    "<br>\n",
    "**Here with FILTERED data we have very close resolts to test with RAW data.**"
   ]
  },
  {
   "cell_type": "markdown",
   "id": "766e4620",
   "metadata": {},
   "source": [
    "**Find the statistical significance of the difference in average order size between the groups using the FILTERED data.**\n",
    "<br>\n",
    "**p-value:  0.771**\n",
    "<br>\n",
    "**Significance of Difference:  -0.033**\n",
    "<br>\n",
    "**We can`t reject the null hypotesys.**\n",
    "**In this test we can cee that group A is better in 3% then group B**"
   ]
  },
  {
   "cell_type": "markdown",
   "id": "bad8cda9",
   "metadata": {},
   "source": [
    "- **Make a decision based on the test results:**"
   ]
  },
  {
   "cell_type": "markdown",
   "id": "67b91140",
   "metadata": {},
   "source": [
    "### Stop the test, consideing  the group B the leader.\n",
    "**In most of tastes and investigetions the group B shows best resolts then group A**"
   ]
  }
 ],
 "metadata": {
  "ExecuteTimeLog": [
   {
    "duration": 37775,
    "start_time": "2022-04-17T09:44:18.144Z"
   },
   {
    "duration": 73262,
    "start_time": "2022-04-17T09:44:55.923Z"
   },
   {
    "duration": 12,
    "start_time": "2022-04-17T09:46:11.125Z"
   },
   {
    "duration": 8,
    "start_time": "2022-04-17T09:46:11.138Z"
   },
   {
    "duration": 11,
    "start_time": "2022-04-17T09:46:11.148Z"
   },
   {
    "duration": 8,
    "start_time": "2022-04-17T09:46:11.161Z"
   },
   {
    "duration": 6,
    "start_time": "2022-04-17T09:46:11.171Z"
   },
   {
    "duration": 6,
    "start_time": "2022-04-17T09:46:11.178Z"
   },
   {
    "duration": 5,
    "start_time": "2022-04-17T09:46:11.186Z"
   },
   {
    "duration": 11,
    "start_time": "2022-04-17T09:46:11.193Z"
   },
   {
    "duration": 47,
    "start_time": "2022-04-17T09:46:11.205Z"
   },
   {
    "duration": 8,
    "start_time": "2022-04-17T09:46:11.255Z"
   },
   {
    "duration": 11,
    "start_time": "2022-04-17T09:46:11.264Z"
   },
   {
    "duration": 4,
    "start_time": "2022-04-17T09:46:11.277Z"
   },
   {
    "duration": 6,
    "start_time": "2022-04-17T09:46:11.283Z"
   },
   {
    "duration": 23,
    "start_time": "2022-04-17T09:46:11.290Z"
   },
   {
    "duration": 10,
    "start_time": "2022-04-17T09:46:11.347Z"
   },
   {
    "duration": 9,
    "start_time": "2022-04-17T09:46:11.359Z"
   },
   {
    "duration": 9,
    "start_time": "2022-04-17T09:46:11.370Z"
   },
   {
    "duration": 13,
    "start_time": "2022-04-17T09:46:11.381Z"
   },
   {
    "duration": 6,
    "start_time": "2022-04-17T09:46:11.396Z"
   },
   {
    "duration": 9,
    "start_time": "2022-04-17T09:46:11.404Z"
   },
   {
    "duration": 36,
    "start_time": "2022-04-17T09:46:11.414Z"
   },
   {
    "duration": 249,
    "start_time": "2022-04-17T09:46:11.452Z"
   },
   {
    "duration": 3,
    "start_time": "2022-04-17T09:46:11.703Z"
   },
   {
    "duration": 12,
    "start_time": "2022-04-17T09:46:11.708Z"
   },
   {
    "duration": 28,
    "start_time": "2022-04-17T09:46:11.722Z"
   },
   {
    "duration": 9,
    "start_time": "2022-04-17T09:46:11.752Z"
   },
   {
    "duration": 5,
    "start_time": "2022-04-17T09:46:11.762Z"
   },
   {
    "duration": 13,
    "start_time": "2022-04-17T09:46:11.768Z"
   },
   {
    "duration": 6,
    "start_time": "2022-04-17T09:46:11.783Z"
   },
   {
    "duration": 7,
    "start_time": "2022-04-17T09:46:11.791Z"
   },
   {
    "duration": 5,
    "start_time": "2022-04-17T09:46:11.799Z"
   },
   {
    "duration": 402,
    "start_time": "2022-04-17T09:46:11.806Z"
   },
   {
    "duration": 5,
    "start_time": "2022-04-17T09:46:12.210Z"
   },
   {
    "duration": 526,
    "start_time": "2022-04-17T09:46:12.217Z"
   },
   {
    "duration": 10,
    "start_time": "2022-04-17T09:46:12.744Z"
   },
   {
    "duration": 10,
    "start_time": "2022-04-17T09:46:12.756Z"
   },
   {
    "duration": 19,
    "start_time": "2022-04-17T09:46:12.773Z"
   },
   {
    "duration": 7,
    "start_time": "2022-04-17T09:46:12.794Z"
   },
   {
    "duration": 46,
    "start_time": "2022-04-17T09:46:12.803Z"
   },
   {
    "duration": 5,
    "start_time": "2022-04-17T09:46:12.851Z"
   },
   {
    "duration": 10,
    "start_time": "2022-04-17T09:46:12.857Z"
   },
   {
    "duration": 8,
    "start_time": "2022-04-17T09:46:12.869Z"
   },
   {
    "duration": 9,
    "start_time": "2022-04-17T09:46:12.879Z"
   },
   {
    "duration": 11,
    "start_time": "2022-04-17T09:46:12.889Z"
   },
   {
    "duration": 6,
    "start_time": "2022-04-17T09:46:12.902Z"
   },
   {
    "duration": 9,
    "start_time": "2022-04-17T09:46:12.910Z"
   },
   {
    "duration": 4,
    "start_time": "2022-04-17T09:46:12.946Z"
   },
   {
    "duration": 4,
    "start_time": "2022-04-17T09:46:12.952Z"
   },
   {
    "duration": 363,
    "start_time": "2022-04-17T09:46:12.958Z"
   },
   {
    "duration": 5,
    "start_time": "2022-04-17T09:46:13.323Z"
   },
   {
    "duration": 186,
    "start_time": "2022-04-17T09:46:13.330Z"
   },
   {
    "duration": 12,
    "start_time": "2022-04-17T09:46:13.518Z"
   },
   {
    "duration": 18,
    "start_time": "2022-04-17T09:46:13.532Z"
   },
   {
    "duration": 218,
    "start_time": "2022-04-17T09:46:13.552Z"
   },
   {
    "duration": 6,
    "start_time": "2022-04-17T09:46:13.773Z"
   },
   {
    "duration": 9,
    "start_time": "2022-04-17T09:46:13.780Z"
   },
   {
    "duration": 3,
    "start_time": "2022-04-17T09:46:13.791Z"
   },
   {
    "duration": 6,
    "start_time": "2022-04-17T09:46:13.795Z"
   },
   {
    "duration": 151,
    "start_time": "2022-04-17T09:46:13.802Z"
   },
   {
    "duration": 95,
    "start_time": "2022-04-17T09:46:13.954Z"
   },
   {
    "duration": 24,
    "start_time": "2022-04-17T09:46:14.051Z"
   },
   {
    "duration": 3,
    "start_time": "2022-04-17T09:46:14.076Z"
   },
   {
    "duration": 8,
    "start_time": "2022-04-17T09:46:14.081Z"
   },
   {
    "duration": 8,
    "start_time": "2022-04-17T09:46:14.091Z"
   },
   {
    "duration": 3,
    "start_time": "2022-04-17T09:46:14.101Z"
   },
   {
    "duration": 9,
    "start_time": "2022-04-17T09:46:14.105Z"
   },
   {
    "duration": 6,
    "start_time": "2022-04-17T09:46:14.149Z"
   },
   {
    "duration": 9,
    "start_time": "2022-04-17T09:46:14.157Z"
   },
   {
    "duration": 6,
    "start_time": "2022-04-17T09:46:14.168Z"
   },
   {
    "duration": 6,
    "start_time": "2022-04-17T09:46:14.176Z"
   },
   {
    "duration": 13,
    "start_time": "2022-04-17T09:46:14.183Z"
   },
   {
    "duration": 22,
    "start_time": "2022-04-17T09:46:14.197Z"
   },
   {
    "duration": 5,
    "start_time": "2022-04-17T09:46:14.248Z"
   },
   {
    "duration": 6,
    "start_time": "2022-04-17T09:46:14.255Z"
   },
   {
    "duration": 9,
    "start_time": "2022-04-17T09:46:14.262Z"
   },
   {
    "duration": 8,
    "start_time": "2022-04-17T09:46:14.273Z"
   },
   {
    "duration": 3,
    "start_time": "2022-04-17T09:46:14.283Z"
   },
   {
    "duration": 3,
    "start_time": "2022-04-17T09:46:14.290Z"
   },
   {
    "duration": 5,
    "start_time": "2022-04-17T09:46:14.294Z"
   },
   {
    "duration": 104,
    "start_time": "2022-04-17T09:46:14.301Z"
   },
   {
    "duration": 9,
    "start_time": "2022-04-17T09:46:14.407Z"
   },
   {
    "duration": 11,
    "start_time": "2022-04-17T09:46:14.418Z"
   },
   {
    "duration": 12,
    "start_time": "2022-04-17T09:46:14.431Z"
   },
   {
    "duration": 12,
    "start_time": "2022-04-17T09:46:14.445Z"
   },
   {
    "duration": 5,
    "start_time": "2022-04-17T09:46:14.462Z"
   },
   {
    "duration": 5,
    "start_time": "2022-04-17T09:46:14.469Z"
   },
   {
    "duration": 7,
    "start_time": "2022-04-17T09:46:14.476Z"
   },
   {
    "duration": 10,
    "start_time": "2022-04-17T09:46:14.485Z"
   },
   {
    "duration": 8,
    "start_time": "2022-04-17T09:46:14.497Z"
   },
   {
    "duration": 10,
    "start_time": "2022-04-17T09:46:14.506Z"
   },
   {
    "duration": 38,
    "start_time": "2022-04-17T09:46:14.518Z"
   },
   {
    "duration": 4,
    "start_time": "2022-04-17T09:46:14.558Z"
   },
   {
    "duration": 8,
    "start_time": "2022-04-17T09:46:14.564Z"
   },
   {
    "duration": 20,
    "start_time": "2022-04-17T09:46:14.573Z"
   },
   {
    "duration": 7,
    "start_time": "2022-04-17T09:46:14.775Z"
   },
   {
    "duration": 9,
    "start_time": "2022-04-17T09:46:15.695Z"
   },
   {
    "duration": 9,
    "start_time": "2022-04-17T09:46:16.022Z"
   },
   {
    "duration": 14,
    "start_time": "2022-04-17T09:46:16.366Z"
   },
   {
    "duration": 8,
    "start_time": "2022-04-17T09:46:16.487Z"
   },
   {
    "duration": 4,
    "start_time": "2022-04-17T09:46:16.607Z"
   },
   {
    "duration": 11,
    "start_time": "2022-04-17T09:46:16.736Z"
   },
   {
    "duration": 389,
    "start_time": "2022-04-17T09:46:16.830Z"
   },
   {
    "duration": 4,
    "start_time": "2022-04-17T09:46:17.222Z"
   },
   {
    "duration": 9,
    "start_time": "2022-04-17T09:46:17.275Z"
   },
   {
    "duration": 7,
    "start_time": "2022-04-17T09:46:17.387Z"
   },
   {
    "duration": 8,
    "start_time": "2022-04-17T09:46:17.496Z"
   },
   {
    "duration": 4,
    "start_time": "2022-04-17T09:46:17.607Z"
   },
   {
    "duration": 11,
    "start_time": "2022-04-17T09:46:17.713Z"
   },
   {
    "duration": 7,
    "start_time": "2022-04-17T09:46:17.818Z"
   },
   {
    "duration": 7,
    "start_time": "2022-04-17T09:46:17.933Z"
   },
   {
    "duration": 3,
    "start_time": "2022-04-17T09:46:18.023Z"
   },
   {
    "duration": 227,
    "start_time": "2022-04-17T09:46:18.137Z"
   },
   {
    "duration": 3,
    "start_time": "2022-04-17T09:46:18.527Z"
   },
   {
    "duration": 293,
    "start_time": "2022-04-17T09:46:18.671Z"
   },
   {
    "duration": 7,
    "start_time": "2022-04-17T09:46:18.967Z"
   },
   {
    "duration": 9,
    "start_time": "2022-04-17T09:46:19.046Z"
   },
   {
    "duration": 12,
    "start_time": "2022-04-17T09:46:19.171Z"
   },
   {
    "duration": 4,
    "start_time": "2022-04-17T09:46:19.311Z"
   },
   {
    "duration": 12,
    "start_time": "2022-04-17T09:46:19.431Z"
   },
   {
    "duration": 4,
    "start_time": "2022-04-17T09:46:19.567Z"
   },
   {
    "duration": 8,
    "start_time": "2022-04-17T09:46:19.711Z"
   },
   {
    "duration": 7,
    "start_time": "2022-04-17T09:46:19.842Z"
   },
   {
    "duration": 4,
    "start_time": "2022-04-17T09:46:19.972Z"
   },
   {
    "duration": 3,
    "start_time": "2022-04-17T09:46:20.095Z"
   },
   {
    "duration": 4,
    "start_time": "2022-04-17T09:46:20.223Z"
   },
   {
    "duration": 5,
    "start_time": "2022-04-17T09:46:20.383Z"
   },
   {
    "duration": 3,
    "start_time": "2022-04-17T09:46:20.490Z"
   },
   {
    "duration": 3,
    "start_time": "2022-04-17T09:46:20.617Z"
   },
   {
    "duration": 224,
    "start_time": "2022-04-17T09:46:21.206Z"
   },
   {
    "duration": 5,
    "start_time": "2022-04-17T09:46:21.558Z"
   },
   {
    "duration": 176,
    "start_time": "2022-04-17T09:46:21.677Z"
   },
   {
    "duration": 12,
    "start_time": "2022-04-17T09:46:21.905Z"
   },
   {
    "duration": 5,
    "start_time": "2022-04-17T09:46:22.030Z"
   },
   {
    "duration": 201,
    "start_time": "2022-04-17T09:46:22.510Z"
   },
   {
    "duration": 4,
    "start_time": "2022-04-17T09:46:22.751Z"
   },
   {
    "duration": 10,
    "start_time": "2022-04-17T09:46:22.874Z"
   },
   {
    "duration": 2,
    "start_time": "2022-04-17T09:46:23.486Z"
   },
   {
    "duration": 2,
    "start_time": "2022-04-17T09:46:23.615Z"
   },
   {
    "duration": 146,
    "start_time": "2022-04-17T09:46:23.740Z"
   },
   {
    "duration": 8,
    "start_time": "2022-04-17T09:46:23.887Z"
   },
   {
    "duration": 35,
    "start_time": "2022-04-17T09:46:23.975Z"
   },
   {
    "duration": 3,
    "start_time": "2022-04-17T09:46:24.095Z"
   },
   {
    "duration": 7,
    "start_time": "2022-04-17T09:46:24.566Z"
   },
   {
    "duration": 10,
    "start_time": "2022-04-17T09:46:24.686Z"
   },
   {
    "duration": 4,
    "start_time": "2022-04-17T09:46:24.798Z"
   },
   {
    "duration": 3,
    "start_time": "2022-04-17T09:46:24.912Z"
   },
   {
    "duration": 8,
    "start_time": "2022-04-17T09:46:25.462Z"
   },
   {
    "duration": 5,
    "start_time": "2022-04-17T09:46:25.671Z"
   },
   {
    "duration": 4,
    "start_time": "2022-04-17T09:46:25.791Z"
   },
   {
    "duration": 5,
    "start_time": "2022-04-17T09:46:25.903Z"
   },
   {
    "duration": 11,
    "start_time": "2022-04-17T09:46:25.994Z"
   },
   {
    "duration": 21,
    "start_time": "2022-04-17T09:46:26.089Z"
   },
   {
    "duration": 5,
    "start_time": "2022-04-17T09:46:26.206Z"
   },
   {
    "duration": 3,
    "start_time": "2022-04-17T09:46:26.286Z"
   },
   {
    "duration": 8,
    "start_time": "2022-04-17T09:46:26.718Z"
   },
   {
    "duration": 12,
    "start_time": "2022-04-17T09:46:26.827Z"
   },
   {
    "duration": 4,
    "start_time": "2022-04-17T09:46:26.929Z"
   },
   {
    "duration": 10,
    "start_time": "2022-04-17T09:51:55.972Z"
   },
   {
    "duration": 8,
    "start_time": "2022-04-17T09:52:00.963Z"
   },
   {
    "duration": 211,
    "start_time": "2022-04-17T09:56:12.316Z"
   },
   {
    "duration": 5,
    "start_time": "2022-04-17T09:56:28.843Z"
   },
   {
    "duration": 200,
    "start_time": "2022-04-17T09:58:53.962Z"
   },
   {
    "duration": 5,
    "start_time": "2022-04-17T10:03:31.114Z"
   },
   {
    "duration": 5,
    "start_time": "2022-04-17T10:03:35.754Z"
   },
   {
    "duration": 7253,
    "start_time": "2022-04-17T10:07:14.513Z"
   },
   {
    "duration": 3,
    "start_time": "2022-04-17T10:07:21.768Z"
   },
   {
    "duration": 1143,
    "start_time": "2022-04-17T10:07:21.773Z"
   },
   {
    "duration": 92,
    "start_time": "2022-04-17T10:07:22.918Z"
   },
   {
    "duration": 14,
    "start_time": "2022-04-17T10:07:23.012Z"
   },
   {
    "duration": 10,
    "start_time": "2022-04-17T10:07:23.028Z"
   },
   {
    "duration": 16,
    "start_time": "2022-04-17T10:07:23.040Z"
   },
   {
    "duration": 10,
    "start_time": "2022-04-17T10:07:23.058Z"
   },
   {
    "duration": 6,
    "start_time": "2022-04-17T10:07:23.071Z"
   },
   {
    "duration": 9,
    "start_time": "2022-04-17T10:07:23.081Z"
   },
   {
    "duration": 7,
    "start_time": "2022-04-17T10:07:23.092Z"
   },
   {
    "duration": 12,
    "start_time": "2022-04-17T10:07:23.101Z"
   },
   {
    "duration": 41,
    "start_time": "2022-04-17T10:07:23.115Z"
   },
   {
    "duration": 13,
    "start_time": "2022-04-17T10:07:23.158Z"
   },
   {
    "duration": 18,
    "start_time": "2022-04-17T10:07:23.173Z"
   },
   {
    "duration": 3,
    "start_time": "2022-04-17T10:07:23.194Z"
   },
   {
    "duration": 9,
    "start_time": "2022-04-17T10:07:23.199Z"
   },
   {
    "duration": 45,
    "start_time": "2022-04-17T10:07:23.210Z"
   },
   {
    "duration": 12,
    "start_time": "2022-04-17T10:07:23.257Z"
   },
   {
    "duration": 17,
    "start_time": "2022-04-17T10:07:23.271Z"
   },
   {
    "duration": 9,
    "start_time": "2022-04-17T10:07:23.290Z"
   },
   {
    "duration": 14,
    "start_time": "2022-04-17T10:07:23.301Z"
   },
   {
    "duration": 32,
    "start_time": "2022-04-17T10:07:23.317Z"
   },
   {
    "duration": 4,
    "start_time": "2022-04-17T10:07:23.351Z"
   },
   {
    "duration": 9,
    "start_time": "2022-04-17T10:07:23.357Z"
   },
   {
    "duration": 269,
    "start_time": "2022-04-17T10:07:23.368Z"
   },
   {
    "duration": 8,
    "start_time": "2022-04-17T10:07:23.639Z"
   },
   {
    "duration": 8,
    "start_time": "2022-04-17T10:07:23.652Z"
   },
   {
    "duration": 8,
    "start_time": "2022-04-17T10:07:23.662Z"
   },
   {
    "duration": 7,
    "start_time": "2022-04-17T10:07:23.672Z"
   },
   {
    "duration": 5,
    "start_time": "2022-04-17T10:07:23.681Z"
   },
   {
    "duration": 22,
    "start_time": "2022-04-17T10:07:23.688Z"
   },
   {
    "duration": 12,
    "start_time": "2022-04-17T10:07:23.712Z"
   },
   {
    "duration": 30,
    "start_time": "2022-04-17T10:07:23.726Z"
   },
   {
    "duration": 6,
    "start_time": "2022-04-17T10:07:23.758Z"
   },
   {
    "duration": 230,
    "start_time": "2022-04-17T10:07:23.766Z"
   },
   {
    "duration": 4,
    "start_time": "2022-04-17T10:07:23.999Z"
   },
   {
    "duration": 397,
    "start_time": "2022-04-17T10:07:24.004Z"
   },
   {
    "duration": 10,
    "start_time": "2022-04-17T10:07:24.403Z"
   },
   {
    "duration": 12,
    "start_time": "2022-04-17T10:07:24.416Z"
   },
   {
    "duration": 32,
    "start_time": "2022-04-17T10:07:24.430Z"
   },
   {
    "duration": 8,
    "start_time": "2022-04-17T10:07:24.464Z"
   },
   {
    "duration": 16,
    "start_time": "2022-04-17T10:07:24.474Z"
   },
   {
    "duration": 6,
    "start_time": "2022-04-17T10:07:24.492Z"
   },
   {
    "duration": 28,
    "start_time": "2022-04-17T10:07:24.499Z"
   },
   {
    "duration": 18,
    "start_time": "2022-04-17T10:07:24.529Z"
   },
   {
    "duration": 4,
    "start_time": "2022-04-17T10:07:24.549Z"
   },
   {
    "duration": 5,
    "start_time": "2022-04-17T10:07:24.554Z"
   },
   {
    "duration": 6,
    "start_time": "2022-04-17T10:07:24.561Z"
   },
   {
    "duration": 5,
    "start_time": "2022-04-17T10:07:24.569Z"
   },
   {
    "duration": 4,
    "start_time": "2022-04-17T10:07:24.576Z"
   },
   {
    "duration": 5,
    "start_time": "2022-04-17T10:07:24.581Z"
   },
   {
    "duration": 556,
    "start_time": "2022-04-17T10:07:24.588Z"
   },
   {
    "duration": 7,
    "start_time": "2022-04-17T10:07:25.147Z"
   },
   {
    "duration": 201,
    "start_time": "2022-04-17T10:07:25.156Z"
   },
   {
    "duration": 12,
    "start_time": "2022-04-17T10:07:25.358Z"
   },
   {
    "duration": 4,
    "start_time": "2022-04-17T10:07:25.372Z"
   },
   {
    "duration": 371,
    "start_time": "2022-04-17T10:07:25.377Z"
   },
   {
    "duration": 470,
    "start_time": "2022-04-17T10:07:25.750Z"
   },
   {
    "duration": 6,
    "start_time": "2022-04-17T10:07:26.222Z"
   },
   {
    "duration": 24,
    "start_time": "2022-04-17T10:07:26.229Z"
   },
   {
    "duration": 3,
    "start_time": "2022-04-17T10:07:26.255Z"
   },
   {
    "duration": 3,
    "start_time": "2022-04-17T10:07:26.260Z"
   },
   {
    "duration": 137,
    "start_time": "2022-04-17T10:07:26.265Z"
   },
   {
    "duration": 8,
    "start_time": "2022-04-17T10:07:26.403Z"
   },
   {
    "duration": 35,
    "start_time": "2022-04-17T10:07:26.412Z"
   },
   {
    "duration": 3,
    "start_time": "2022-04-17T10:07:26.449Z"
   },
   {
    "duration": 7,
    "start_time": "2022-04-17T10:07:26.454Z"
   },
   {
    "duration": 9,
    "start_time": "2022-04-17T10:07:26.463Z"
   },
   {
    "duration": 3,
    "start_time": "2022-04-17T10:07:26.474Z"
   },
   {
    "duration": 6,
    "start_time": "2022-04-17T10:07:26.479Z"
   },
   {
    "duration": 6,
    "start_time": "2022-04-17T10:07:26.487Z"
   },
   {
    "duration": 6,
    "start_time": "2022-04-17T10:07:26.495Z"
   },
   {
    "duration": 6,
    "start_time": "2022-04-17T10:07:26.502Z"
   },
   {
    "duration": 40,
    "start_time": "2022-04-17T10:07:26.509Z"
   },
   {
    "duration": 10,
    "start_time": "2022-04-17T10:07:26.551Z"
   },
   {
    "duration": 32,
    "start_time": "2022-04-17T10:07:26.563Z"
   },
   {
    "duration": 4,
    "start_time": "2022-04-17T10:07:26.597Z"
   },
   {
    "duration": 6,
    "start_time": "2022-04-17T10:07:26.603Z"
   },
   {
    "duration": 38,
    "start_time": "2022-04-17T10:07:26.610Z"
   },
   {
    "duration": 9,
    "start_time": "2022-04-17T10:07:26.650Z"
   },
   {
    "duration": 3,
    "start_time": "2022-04-17T10:07:26.664Z"
   },
   {
    "duration": 4225,
    "start_time": "2022-04-17T16:38:53.188Z"
   },
   {
    "duration": 4,
    "start_time": "2022-04-17T16:38:57.417Z"
   },
   {
    "duration": 1905,
    "start_time": "2022-04-17T16:38:57.423Z"
   },
   {
    "duration": 94,
    "start_time": "2022-04-17T16:38:59.330Z"
   },
   {
    "duration": 16,
    "start_time": "2022-04-17T16:38:59.427Z"
   },
   {
    "duration": 13,
    "start_time": "2022-04-17T16:38:59.445Z"
   },
   {
    "duration": 17,
    "start_time": "2022-04-17T16:38:59.461Z"
   },
   {
    "duration": 12,
    "start_time": "2022-04-17T16:38:59.480Z"
   },
   {
    "duration": 8,
    "start_time": "2022-04-17T16:38:59.494Z"
   },
   {
    "duration": 7,
    "start_time": "2022-04-17T16:38:59.503Z"
   },
   {
    "duration": 175,
    "start_time": "2022-04-17T16:38:59.512Z"
   },
   {
    "duration": 0,
    "start_time": "2022-04-17T16:38:59.692Z"
   },
   {
    "duration": 0,
    "start_time": "2022-04-17T16:38:59.693Z"
   },
   {
    "duration": 0,
    "start_time": "2022-04-17T16:38:59.695Z"
   },
   {
    "duration": 0,
    "start_time": "2022-04-17T16:38:59.696Z"
   },
   {
    "duration": 0,
    "start_time": "2022-04-17T16:38:59.698Z"
   },
   {
    "duration": 0,
    "start_time": "2022-04-17T16:38:59.699Z"
   },
   {
    "duration": 0,
    "start_time": "2022-04-17T16:38:59.701Z"
   },
   {
    "duration": 0,
    "start_time": "2022-04-17T16:38:59.703Z"
   },
   {
    "duration": 1,
    "start_time": "2022-04-17T16:38:59.704Z"
   },
   {
    "duration": 0,
    "start_time": "2022-04-17T16:38:59.706Z"
   },
   {
    "duration": 0,
    "start_time": "2022-04-17T16:38:59.708Z"
   },
   {
    "duration": 0,
    "start_time": "2022-04-17T16:38:59.710Z"
   },
   {
    "duration": 0,
    "start_time": "2022-04-17T16:38:59.711Z"
   },
   {
    "duration": 0,
    "start_time": "2022-04-17T16:38:59.713Z"
   },
   {
    "duration": 0,
    "start_time": "2022-04-17T16:38:59.714Z"
   },
   {
    "duration": 0,
    "start_time": "2022-04-17T16:38:59.716Z"
   },
   {
    "duration": 0,
    "start_time": "2022-04-17T16:38:59.717Z"
   },
   {
    "duration": 0,
    "start_time": "2022-04-17T16:38:59.719Z"
   },
   {
    "duration": 0,
    "start_time": "2022-04-17T16:38:59.720Z"
   },
   {
    "duration": 0,
    "start_time": "2022-04-17T16:38:59.722Z"
   },
   {
    "duration": 0,
    "start_time": "2022-04-17T16:38:59.723Z"
   },
   {
    "duration": 0,
    "start_time": "2022-04-17T16:38:59.725Z"
   },
   {
    "duration": 0,
    "start_time": "2022-04-17T16:38:59.727Z"
   },
   {
    "duration": 0,
    "start_time": "2022-04-17T16:38:59.728Z"
   },
   {
    "duration": 0,
    "start_time": "2022-04-17T16:38:59.783Z"
   },
   {
    "duration": 0,
    "start_time": "2022-04-17T16:38:59.784Z"
   },
   {
    "duration": 0,
    "start_time": "2022-04-17T16:38:59.786Z"
   },
   {
    "duration": 0,
    "start_time": "2022-04-17T16:38:59.788Z"
   },
   {
    "duration": 0,
    "start_time": "2022-04-17T16:38:59.789Z"
   },
   {
    "duration": 0,
    "start_time": "2022-04-17T16:38:59.791Z"
   },
   {
    "duration": 1,
    "start_time": "2022-04-17T16:38:59.792Z"
   },
   {
    "duration": 0,
    "start_time": "2022-04-17T16:38:59.794Z"
   },
   {
    "duration": 0,
    "start_time": "2022-04-17T16:38:59.795Z"
   },
   {
    "duration": 0,
    "start_time": "2022-04-17T16:38:59.797Z"
   },
   {
    "duration": 0,
    "start_time": "2022-04-17T16:38:59.798Z"
   },
   {
    "duration": 0,
    "start_time": "2022-04-17T16:38:59.800Z"
   },
   {
    "duration": 0,
    "start_time": "2022-04-17T16:38:59.801Z"
   },
   {
    "duration": 0,
    "start_time": "2022-04-17T16:38:59.803Z"
   },
   {
    "duration": 0,
    "start_time": "2022-04-17T16:38:59.804Z"
   },
   {
    "duration": 0,
    "start_time": "2022-04-17T16:38:59.806Z"
   },
   {
    "duration": 0,
    "start_time": "2022-04-17T16:38:59.808Z"
   },
   {
    "duration": 0,
    "start_time": "2022-04-17T16:38:59.809Z"
   },
   {
    "duration": 0,
    "start_time": "2022-04-17T16:38:59.811Z"
   },
   {
    "duration": 0,
    "start_time": "2022-04-17T16:38:59.812Z"
   },
   {
    "duration": 0,
    "start_time": "2022-04-17T16:38:59.814Z"
   },
   {
    "duration": 0,
    "start_time": "2022-04-17T16:38:59.815Z"
   },
   {
    "duration": 0,
    "start_time": "2022-04-17T16:38:59.817Z"
   },
   {
    "duration": 0,
    "start_time": "2022-04-17T16:38:59.882Z"
   },
   {
    "duration": 0,
    "start_time": "2022-04-17T16:38:59.884Z"
   },
   {
    "duration": 0,
    "start_time": "2022-04-17T16:38:59.886Z"
   },
   {
    "duration": 0,
    "start_time": "2022-04-17T16:38:59.887Z"
   },
   {
    "duration": 0,
    "start_time": "2022-04-17T16:38:59.889Z"
   },
   {
    "duration": 0,
    "start_time": "2022-04-17T16:38:59.890Z"
   },
   {
    "duration": 0,
    "start_time": "2022-04-17T16:38:59.892Z"
   },
   {
    "duration": 0,
    "start_time": "2022-04-17T16:38:59.893Z"
   },
   {
    "duration": 0,
    "start_time": "2022-04-17T16:38:59.895Z"
   },
   {
    "duration": 0,
    "start_time": "2022-04-17T16:38:59.896Z"
   },
   {
    "duration": 1,
    "start_time": "2022-04-17T16:38:59.898Z"
   },
   {
    "duration": 0,
    "start_time": "2022-04-17T16:38:59.900Z"
   },
   {
    "duration": 0,
    "start_time": "2022-04-17T16:38:59.901Z"
   },
   {
    "duration": 0,
    "start_time": "2022-04-17T16:38:59.903Z"
   },
   {
    "duration": 0,
    "start_time": "2022-04-17T16:38:59.904Z"
   },
   {
    "duration": 0,
    "start_time": "2022-04-17T16:38:59.906Z"
   },
   {
    "duration": 0,
    "start_time": "2022-04-17T16:38:59.908Z"
   },
   {
    "duration": 0,
    "start_time": "2022-04-17T16:38:59.909Z"
   },
   {
    "duration": 0,
    "start_time": "2022-04-17T16:38:59.911Z"
   },
   {
    "duration": 0,
    "start_time": "2022-04-17T16:38:59.913Z"
   },
   {
    "duration": 0,
    "start_time": "2022-04-17T16:38:59.914Z"
   },
   {
    "duration": 0,
    "start_time": "2022-04-17T16:38:59.916Z"
   },
   {
    "duration": 0,
    "start_time": "2022-04-17T16:38:59.982Z"
   },
   {
    "duration": 0,
    "start_time": "2022-04-17T16:38:59.983Z"
   },
   {
    "duration": 4,
    "start_time": "2022-04-17T16:39:39.015Z"
   },
   {
    "duration": 11,
    "start_time": "2022-04-17T16:39:42.699Z"
   },
   {
    "duration": 3564,
    "start_time": "2022-04-17T16:39:54.888Z"
   },
   {
    "duration": 4,
    "start_time": "2022-04-17T16:39:58.455Z"
   },
   {
    "duration": 1729,
    "start_time": "2022-04-17T16:39:58.460Z"
   },
   {
    "duration": 130,
    "start_time": "2022-04-17T16:40:00.191Z"
   },
   {
    "duration": 18,
    "start_time": "2022-04-17T16:40:00.324Z"
   },
   {
    "duration": 20,
    "start_time": "2022-04-17T16:40:00.344Z"
   },
   {
    "duration": 28,
    "start_time": "2022-04-17T16:40:00.366Z"
   },
   {
    "duration": 29,
    "start_time": "2022-04-17T16:40:00.396Z"
   },
   {
    "duration": 12,
    "start_time": "2022-04-17T16:40:00.427Z"
   },
   {
    "duration": 9,
    "start_time": "2022-04-17T16:40:00.442Z"
   },
   {
    "duration": 18,
    "start_time": "2022-04-17T16:40:00.454Z"
   },
   {
    "duration": 24,
    "start_time": "2022-04-17T16:40:00.475Z"
   },
   {
    "duration": 27,
    "start_time": "2022-04-17T16:40:00.501Z"
   },
   {
    "duration": 15,
    "start_time": "2022-04-17T16:40:00.532Z"
   },
   {
    "duration": 16,
    "start_time": "2022-04-17T16:40:00.549Z"
   },
   {
    "duration": 16,
    "start_time": "2022-04-17T16:40:00.567Z"
   },
   {
    "duration": 13,
    "start_time": "2022-04-17T16:40:00.585Z"
   },
   {
    "duration": 34,
    "start_time": "2022-04-17T16:40:00.601Z"
   },
   {
    "duration": 12,
    "start_time": "2022-04-17T16:40:00.638Z"
   },
   {
    "duration": 33,
    "start_time": "2022-04-17T16:40:00.652Z"
   },
   {
    "duration": 36,
    "start_time": "2022-04-17T16:40:00.688Z"
   },
   {
    "duration": 23,
    "start_time": "2022-04-17T16:40:00.726Z"
   },
   {
    "duration": 12,
    "start_time": "2022-04-17T16:40:00.751Z"
   },
   {
    "duration": 16,
    "start_time": "2022-04-17T16:40:00.765Z"
   },
   {
    "duration": 19,
    "start_time": "2022-04-17T16:40:00.783Z"
   },
   {
    "duration": 474,
    "start_time": "2022-04-17T16:40:00.804Z"
   },
   {
    "duration": 4,
    "start_time": "2022-04-17T16:40:01.280Z"
   },
   {
    "duration": 27,
    "start_time": "2022-04-17T16:40:01.286Z"
   },
   {
    "duration": 23,
    "start_time": "2022-04-17T16:40:01.315Z"
   },
   {
    "duration": 13,
    "start_time": "2022-04-17T16:40:01.341Z"
   },
   {
    "duration": 5,
    "start_time": "2022-04-17T16:40:01.357Z"
   },
   {
    "duration": 32,
    "start_time": "2022-04-17T16:40:01.364Z"
   },
   {
    "duration": 13,
    "start_time": "2022-04-17T16:40:01.398Z"
   },
   {
    "duration": 16,
    "start_time": "2022-04-17T16:40:01.413Z"
   },
   {
    "duration": 12,
    "start_time": "2022-04-17T16:40:01.432Z"
   },
   {
    "duration": 448,
    "start_time": "2022-04-17T16:40:01.446Z"
   },
   {
    "duration": 5,
    "start_time": "2022-04-17T16:40:01.897Z"
   },
   {
    "duration": 515,
    "start_time": "2022-04-17T16:40:01.905Z"
   },
   {
    "duration": 11,
    "start_time": "2022-04-17T16:40:02.422Z"
   },
   {
    "duration": 14,
    "start_time": "2022-04-17T16:40:02.435Z"
   },
   {
    "duration": 42,
    "start_time": "2022-04-17T16:40:02.456Z"
   },
   {
    "duration": 27,
    "start_time": "2022-04-17T16:40:02.500Z"
   },
   {
    "duration": 19,
    "start_time": "2022-04-17T16:40:02.529Z"
   },
   {
    "duration": 5,
    "start_time": "2022-04-17T16:40:02.551Z"
   },
   {
    "duration": 24,
    "start_time": "2022-04-17T16:40:02.558Z"
   },
   {
    "duration": 20,
    "start_time": "2022-04-17T16:40:02.584Z"
   },
   {
    "duration": 6,
    "start_time": "2022-04-17T16:40:02.606Z"
   },
   {
    "duration": 8,
    "start_time": "2022-04-17T16:40:02.614Z"
   },
   {
    "duration": 9,
    "start_time": "2022-04-17T16:40:02.624Z"
   },
   {
    "duration": 10,
    "start_time": "2022-04-17T16:40:02.635Z"
   },
   {
    "duration": 6,
    "start_time": "2022-04-17T16:40:02.648Z"
   },
   {
    "duration": 6,
    "start_time": "2022-04-17T16:40:02.682Z"
   },
   {
    "duration": 636,
    "start_time": "2022-04-17T16:40:02.691Z"
   },
   {
    "duration": 9,
    "start_time": "2022-04-17T16:40:03.330Z"
   },
   {
    "duration": 379,
    "start_time": "2022-04-17T16:40:03.341Z"
   },
   {
    "duration": 19,
    "start_time": "2022-04-17T16:40:03.722Z"
   },
   {
    "duration": 16,
    "start_time": "2022-04-17T16:40:03.744Z"
   },
   {
    "duration": 442,
    "start_time": "2022-04-17T16:40:03.763Z"
   },
   {
    "duration": 514,
    "start_time": "2022-04-17T16:40:04.207Z"
   },
   {
    "duration": 6,
    "start_time": "2022-04-17T16:40:04.724Z"
   },
   {
    "duration": 22,
    "start_time": "2022-04-17T16:40:04.733Z"
   },
   {
    "duration": 21,
    "start_time": "2022-04-17T16:40:04.757Z"
   },
   {
    "duration": 16,
    "start_time": "2022-04-17T16:40:04.782Z"
   },
   {
    "duration": 275,
    "start_time": "2022-04-17T16:40:04.800Z"
   },
   {
    "duration": 11,
    "start_time": "2022-04-17T16:40:05.077Z"
   },
   {
    "duration": 61,
    "start_time": "2022-04-17T16:40:05.091Z"
   },
   {
    "duration": 5,
    "start_time": "2022-04-17T16:40:05.154Z"
   },
   {
    "duration": 20,
    "start_time": "2022-04-17T16:40:05.161Z"
   },
   {
    "duration": 20,
    "start_time": "2022-04-17T16:40:05.184Z"
   },
   {
    "duration": 12,
    "start_time": "2022-04-17T16:40:05.207Z"
   },
   {
    "duration": 11,
    "start_time": "2022-04-17T16:40:05.222Z"
   },
   {
    "duration": 14,
    "start_time": "2022-04-17T16:40:05.235Z"
   },
   {
    "duration": 24,
    "start_time": "2022-04-17T16:40:05.251Z"
   },
   {
    "duration": 30,
    "start_time": "2022-04-17T16:40:05.278Z"
   },
   {
    "duration": 15,
    "start_time": "2022-04-17T16:40:05.310Z"
   },
   {
    "duration": 27,
    "start_time": "2022-04-17T16:40:05.327Z"
   },
   {
    "duration": 46,
    "start_time": "2022-04-17T16:40:05.356Z"
   },
   {
    "duration": 6,
    "start_time": "2022-04-17T16:40:05.404Z"
   },
   {
    "duration": 28,
    "start_time": "2022-04-17T16:40:05.412Z"
   },
   {
    "duration": 21,
    "start_time": "2022-04-17T16:40:05.442Z"
   },
   {
    "duration": 34,
    "start_time": "2022-04-17T16:40:05.466Z"
   },
   {
    "duration": 17,
    "start_time": "2022-04-17T16:40:05.503Z"
   },
   {
    "duration": 8,
    "start_time": "2022-04-17T16:45:33.637Z"
   },
   {
    "duration": 7,
    "start_time": "2022-04-17T16:46:05.737Z"
   },
   {
    "duration": 9,
    "start_time": "2022-04-17T16:46:38.477Z"
   },
   {
    "duration": 14,
    "start_time": "2022-04-17T16:47:09.058Z"
   },
   {
    "duration": 613,
    "start_time": "2022-04-17T16:48:48.114Z"
   },
   {
    "duration": 440,
    "start_time": "2022-04-17T16:49:03.458Z"
   },
   {
    "duration": 501,
    "start_time": "2022-04-17T16:49:51.328Z"
   },
   {
    "duration": 512,
    "start_time": "2022-04-17T16:50:21.897Z"
   },
   {
    "duration": 471,
    "start_time": "2022-04-17T16:50:48.354Z"
   },
   {
    "duration": 486,
    "start_time": "2022-04-17T16:51:13.828Z"
   },
   {
    "duration": 407,
    "start_time": "2022-04-17T16:55:44.359Z"
   },
   {
    "duration": 131,
    "start_time": "2022-04-17T16:57:42.477Z"
   },
   {
    "duration": 487,
    "start_time": "2022-04-17T16:57:58.707Z"
   },
   {
    "duration": 399,
    "start_time": "2022-04-17T16:58:10.720Z"
   },
   {
    "duration": 511,
    "start_time": "2022-04-17T16:58:19.686Z"
   },
   {
    "duration": 434,
    "start_time": "2022-04-17T17:13:10.864Z"
   },
   {
    "duration": 6,
    "start_time": "2022-04-17T17:24:37.929Z"
   },
   {
    "duration": 4,
    "start_time": "2022-04-17T17:24:42.980Z"
   },
   {
    "duration": 5,
    "start_time": "2022-04-17T17:24:59.132Z"
   },
   {
    "duration": 529,
    "start_time": "2022-04-17T17:37:20.142Z"
   },
   {
    "duration": 390,
    "start_time": "2022-04-17T17:41:59.895Z"
   },
   {
    "duration": 402,
    "start_time": "2022-04-17T17:42:30.262Z"
   },
   {
    "duration": 3440,
    "start_time": "2022-04-17T17:43:38.746Z"
   },
   {
    "duration": 4,
    "start_time": "2022-04-17T17:43:42.189Z"
   },
   {
    "duration": 1749,
    "start_time": "2022-04-17T17:43:42.195Z"
   },
   {
    "duration": 103,
    "start_time": "2022-04-17T17:43:43.947Z"
   },
   {
    "duration": 16,
    "start_time": "2022-04-17T17:43:44.052Z"
   },
   {
    "duration": 12,
    "start_time": "2022-04-17T17:43:44.070Z"
   },
   {
    "duration": 15,
    "start_time": "2022-04-17T17:43:44.085Z"
   },
   {
    "duration": 10,
    "start_time": "2022-04-17T17:43:44.103Z"
   },
   {
    "duration": 6,
    "start_time": "2022-04-17T17:43:44.116Z"
   },
   {
    "duration": 8,
    "start_time": "2022-04-17T17:43:44.126Z"
   },
   {
    "duration": 11,
    "start_time": "2022-04-17T17:43:44.137Z"
   },
   {
    "duration": 37,
    "start_time": "2022-04-17T17:43:44.151Z"
   },
   {
    "duration": 17,
    "start_time": "2022-04-17T17:43:44.190Z"
   },
   {
    "duration": 13,
    "start_time": "2022-04-17T17:43:44.210Z"
   },
   {
    "duration": 20,
    "start_time": "2022-04-17T17:43:44.225Z"
   },
   {
    "duration": 9,
    "start_time": "2022-04-17T17:43:44.247Z"
   },
   {
    "duration": 6,
    "start_time": "2022-04-17T17:43:44.283Z"
   },
   {
    "duration": 32,
    "start_time": "2022-04-17T17:43:44.291Z"
   },
   {
    "duration": 8,
    "start_time": "2022-04-17T17:43:44.325Z"
   },
   {
    "duration": 8,
    "start_time": "2022-04-17T17:43:44.336Z"
   },
   {
    "duration": 37,
    "start_time": "2022-04-17T17:43:44.346Z"
   },
   {
    "duration": 17,
    "start_time": "2022-04-17T17:43:44.385Z"
   },
   {
    "duration": 12,
    "start_time": "2022-04-17T17:43:44.405Z"
   },
   {
    "duration": 16,
    "start_time": "2022-04-17T17:43:44.419Z"
   },
   {
    "duration": 51,
    "start_time": "2022-04-17T17:43:44.437Z"
   },
   {
    "duration": 9,
    "start_time": "2022-04-17T17:43:44.491Z"
   },
   {
    "duration": 5,
    "start_time": "2022-04-17T17:43:44.502Z"
   },
   {
    "duration": 11,
    "start_time": "2022-04-17T17:43:44.514Z"
   },
   {
    "duration": 481,
    "start_time": "2022-04-17T17:43:44.526Z"
   },
   {
    "duration": 5,
    "start_time": "2022-04-17T17:43:45.009Z"
   },
   {
    "duration": 28,
    "start_time": "2022-04-17T17:43:45.016Z"
   },
   {
    "duration": 20,
    "start_time": "2022-04-17T17:43:45.046Z"
   },
   {
    "duration": 17,
    "start_time": "2022-04-17T17:43:45.068Z"
   },
   {
    "duration": 8,
    "start_time": "2022-04-17T17:43:45.088Z"
   },
   {
    "duration": 17,
    "start_time": "2022-04-17T17:43:45.098Z"
   },
   {
    "duration": 16,
    "start_time": "2022-04-17T17:43:45.117Z"
   },
   {
    "duration": 35,
    "start_time": "2022-04-17T17:43:45.135Z"
   },
   {
    "duration": 10,
    "start_time": "2022-04-17T17:43:45.172Z"
   },
   {
    "duration": 406,
    "start_time": "2022-04-17T17:43:45.184Z"
   },
   {
    "duration": 4,
    "start_time": "2022-04-17T17:43:45.592Z"
   },
   {
    "duration": 498,
    "start_time": "2022-04-17T17:43:45.598Z"
   },
   {
    "duration": 11,
    "start_time": "2022-04-17T17:43:46.098Z"
   },
   {
    "duration": 15,
    "start_time": "2022-04-17T17:43:46.111Z"
   },
   {
    "duration": 20,
    "start_time": "2022-04-17T17:43:46.128Z"
   },
   {
    "duration": 32,
    "start_time": "2022-04-17T17:43:46.150Z"
   },
   {
    "duration": 21,
    "start_time": "2022-04-17T17:43:46.184Z"
   },
   {
    "duration": 6,
    "start_time": "2022-04-17T17:43:46.207Z"
   },
   {
    "duration": 12,
    "start_time": "2022-04-17T17:43:46.215Z"
   },
   {
    "duration": 11,
    "start_time": "2022-04-17T17:43:46.229Z"
   },
   {
    "duration": 40,
    "start_time": "2022-04-17T17:43:46.242Z"
   },
   {
    "duration": 6,
    "start_time": "2022-04-17T17:43:46.284Z"
   },
   {
    "duration": 9,
    "start_time": "2022-04-17T17:43:46.292Z"
   },
   {
    "duration": 7,
    "start_time": "2022-04-17T17:43:46.303Z"
   },
   {
    "duration": 7,
    "start_time": "2022-04-17T17:43:46.311Z"
   },
   {
    "duration": 8,
    "start_time": "2022-04-17T17:43:46.320Z"
   },
   {
    "duration": 624,
    "start_time": "2022-04-17T17:43:46.330Z"
   },
   {
    "duration": 4,
    "start_time": "2022-04-17T17:43:46.957Z"
   },
   {
    "duration": 508,
    "start_time": "2022-04-17T17:43:46.964Z"
   },
   {
    "duration": 11,
    "start_time": "2022-04-17T17:43:47.474Z"
   },
   {
    "duration": 377,
    "start_time": "2022-04-17T17:43:47.488Z"
   },
   {
    "duration": 23,
    "start_time": "2022-04-17T17:43:47.867Z"
   },
   {
    "duration": 5,
    "start_time": "2022-04-17T17:43:47.893Z"
   },
   {
    "duration": 626,
    "start_time": "2022-04-17T17:43:47.901Z"
   },
   {
    "duration": 474,
    "start_time": "2022-04-17T17:43:48.530Z"
   },
   {
    "duration": 414,
    "start_time": "2022-04-17T17:43:49.006Z"
   },
   {
    "duration": 6,
    "start_time": "2022-04-17T17:43:49.423Z"
   },
   {
    "duration": 14,
    "start_time": "2022-04-17T17:43:49.431Z"
   },
   {
    "duration": 5,
    "start_time": "2022-04-17T17:43:49.447Z"
   },
   {
    "duration": 4,
    "start_time": "2022-04-17T17:43:49.482Z"
   },
   {
    "duration": 271,
    "start_time": "2022-04-17T17:43:49.488Z"
   },
   {
    "duration": 11,
    "start_time": "2022-04-17T17:43:49.761Z"
   },
   {
    "duration": 30,
    "start_time": "2022-04-17T17:43:49.781Z"
   },
   {
    "duration": 4,
    "start_time": "2022-04-17T17:43:49.813Z"
   },
   {
    "duration": 11,
    "start_time": "2022-04-17T17:43:49.819Z"
   },
   {
    "duration": 9,
    "start_time": "2022-04-17T17:43:49.832Z"
   },
   {
    "duration": 39,
    "start_time": "2022-04-17T17:43:49.843Z"
   },
   {
    "duration": 5,
    "start_time": "2022-04-17T17:43:49.884Z"
   },
   {
    "duration": 11,
    "start_time": "2022-04-17T17:43:49.891Z"
   },
   {
    "duration": 7,
    "start_time": "2022-04-17T17:43:49.904Z"
   },
   {
    "duration": 8,
    "start_time": "2022-04-17T17:43:49.914Z"
   },
   {
    "duration": 8,
    "start_time": "2022-04-17T17:43:49.924Z"
   },
   {
    "duration": 14,
    "start_time": "2022-04-17T17:43:49.986Z"
   },
   {
    "duration": 29,
    "start_time": "2022-04-17T17:43:50.003Z"
   },
   {
    "duration": 7,
    "start_time": "2022-04-17T17:43:50.035Z"
   },
   {
    "duration": 37,
    "start_time": "2022-04-17T17:43:50.044Z"
   },
   {
    "duration": 14,
    "start_time": "2022-04-17T17:43:50.084Z"
   },
   {
    "duration": 12,
    "start_time": "2022-04-17T17:43:50.100Z"
   },
   {
    "duration": 5,
    "start_time": "2022-04-17T17:43:50.114Z"
   },
   {
    "duration": 4093,
    "start_time": "2022-04-17T17:56:03.280Z"
   },
   {
    "duration": 3,
    "start_time": "2022-04-17T17:56:07.376Z"
   },
   {
    "duration": 1659,
    "start_time": "2022-04-17T17:56:07.381Z"
   },
   {
    "duration": 92,
    "start_time": "2022-04-17T17:56:09.043Z"
   },
   {
    "duration": 18,
    "start_time": "2022-04-17T17:56:09.137Z"
   },
   {
    "duration": 13,
    "start_time": "2022-04-17T17:56:09.157Z"
   },
   {
    "duration": 21,
    "start_time": "2022-04-17T17:56:09.173Z"
   },
   {
    "duration": 12,
    "start_time": "2022-04-17T17:56:09.197Z"
   },
   {
    "duration": 8,
    "start_time": "2022-04-17T17:56:09.212Z"
   },
   {
    "duration": 7,
    "start_time": "2022-04-17T17:56:09.224Z"
   },
   {
    "duration": 6,
    "start_time": "2022-04-17T17:56:09.234Z"
   },
   {
    "duration": 49,
    "start_time": "2022-04-17T17:56:09.242Z"
   },
   {
    "duration": 12,
    "start_time": "2022-04-17T17:56:09.294Z"
   },
   {
    "duration": 12,
    "start_time": "2022-04-17T17:56:09.308Z"
   },
   {
    "duration": 17,
    "start_time": "2022-04-17T17:56:09.322Z"
   },
   {
    "duration": 42,
    "start_time": "2022-04-17T17:56:09.341Z"
   },
   {
    "duration": 8,
    "start_time": "2022-04-17T17:56:09.385Z"
   },
   {
    "duration": 25,
    "start_time": "2022-04-17T17:56:09.395Z"
   },
   {
    "duration": 7,
    "start_time": "2022-04-17T17:56:09.423Z"
   },
   {
    "duration": 9,
    "start_time": "2022-04-17T17:56:09.433Z"
   },
   {
    "duration": 11,
    "start_time": "2022-04-17T17:56:09.481Z"
   },
   {
    "duration": 16,
    "start_time": "2022-04-17T17:56:09.494Z"
   },
   {
    "duration": 11,
    "start_time": "2022-04-17T17:56:09.513Z"
   },
   {
    "duration": 16,
    "start_time": "2022-04-17T17:56:09.526Z"
   },
   {
    "duration": 46,
    "start_time": "2022-04-17T17:56:09.544Z"
   },
   {
    "duration": 10,
    "start_time": "2022-04-17T17:56:09.593Z"
   },
   {
    "duration": 7,
    "start_time": "2022-04-17T17:56:09.606Z"
   },
   {
    "duration": 10,
    "start_time": "2022-04-17T17:56:09.621Z"
   },
   {
    "duration": 506,
    "start_time": "2022-04-17T17:56:09.633Z"
   },
   {
    "duration": 5,
    "start_time": "2022-04-17T17:56:10.142Z"
   },
   {
    "duration": 20,
    "start_time": "2022-04-17T17:56:10.150Z"
   },
   {
    "duration": 16,
    "start_time": "2022-04-17T17:56:10.182Z"
   },
   {
    "duration": 15,
    "start_time": "2022-04-17T17:56:10.200Z"
   },
   {
    "duration": 6,
    "start_time": "2022-04-17T17:56:10.218Z"
   },
   {
    "duration": 21,
    "start_time": "2022-04-17T17:56:10.227Z"
   },
   {
    "duration": 15,
    "start_time": "2022-04-17T17:56:10.251Z"
   },
   {
    "duration": 18,
    "start_time": "2022-04-17T17:56:10.268Z"
   },
   {
    "duration": 5,
    "start_time": "2022-04-17T17:56:10.288Z"
   },
   {
    "duration": 609,
    "start_time": "2022-04-17T17:56:10.295Z"
   },
   {
    "duration": 5,
    "start_time": "2022-04-17T17:56:10.907Z"
   },
   {
    "duration": 617,
    "start_time": "2022-04-17T17:56:10.915Z"
   },
   {
    "duration": 12,
    "start_time": "2022-04-17T17:56:11.535Z"
   },
   {
    "duration": 39,
    "start_time": "2022-04-17T17:56:11.550Z"
   },
   {
    "duration": 20,
    "start_time": "2022-04-17T17:56:11.592Z"
   },
   {
    "duration": 7,
    "start_time": "2022-04-17T17:56:11.615Z"
   },
   {
    "duration": 21,
    "start_time": "2022-04-17T17:56:11.625Z"
   },
   {
    "duration": 35,
    "start_time": "2022-04-17T17:56:11.648Z"
   },
   {
    "duration": 16,
    "start_time": "2022-04-17T17:56:11.687Z"
   },
   {
    "duration": 14,
    "start_time": "2022-04-17T17:56:11.706Z"
   },
   {
    "duration": 7,
    "start_time": "2022-04-17T17:56:11.723Z"
   },
   {
    "duration": 8,
    "start_time": "2022-04-17T17:56:11.733Z"
   },
   {
    "duration": 45,
    "start_time": "2022-04-17T17:56:11.744Z"
   },
   {
    "duration": 8,
    "start_time": "2022-04-17T17:56:11.792Z"
   },
   {
    "duration": 6,
    "start_time": "2022-04-17T17:56:11.803Z"
   },
   {
    "duration": 7,
    "start_time": "2022-04-17T17:56:11.812Z"
   },
   {
    "duration": 948,
    "start_time": "2022-04-17T17:56:11.822Z"
   },
   {
    "duration": 5,
    "start_time": "2022-04-17T17:56:12.773Z"
   },
   {
    "duration": 657,
    "start_time": "2022-04-17T17:56:12.781Z"
   },
   {
    "duration": 8,
    "start_time": "2022-04-17T17:56:13.441Z"
   },
   {
    "duration": 372,
    "start_time": "2022-04-17T17:56:13.452Z"
   },
   {
    "duration": 18,
    "start_time": "2022-04-17T17:56:13.826Z"
   },
   {
    "duration": 6,
    "start_time": "2022-04-17T17:56:13.846Z"
   },
   {
    "duration": 486,
    "start_time": "2022-04-17T17:56:13.882Z"
   },
   {
    "duration": 420,
    "start_time": "2022-04-17T17:56:14.371Z"
   },
   {
    "duration": 407,
    "start_time": "2022-04-17T17:56:14.793Z"
   },
   {
    "duration": 6,
    "start_time": "2022-04-17T17:56:15.203Z"
   },
   {
    "duration": 14,
    "start_time": "2022-04-17T17:56:15.212Z"
   },
   {
    "duration": 9,
    "start_time": "2022-04-17T17:56:15.229Z"
   },
   {
    "duration": 281,
    "start_time": "2022-04-17T17:56:15.240Z"
   },
   {
    "duration": 10,
    "start_time": "2022-04-17T17:56:15.524Z"
   },
   {
    "duration": 47,
    "start_time": "2022-04-17T17:56:15.536Z"
   },
   {
    "duration": 5,
    "start_time": "2022-04-17T17:56:15.585Z"
   },
   {
    "duration": 12,
    "start_time": "2022-04-17T17:56:15.592Z"
   },
   {
    "duration": 10,
    "start_time": "2022-04-17T17:56:15.606Z"
   },
   {
    "duration": 5,
    "start_time": "2022-04-17T17:56:15.618Z"
   },
   {
    "duration": 7,
    "start_time": "2022-04-17T17:56:15.625Z"
   },
   {
    "duration": 50,
    "start_time": "2022-04-17T17:56:15.634Z"
   },
   {
    "duration": 7,
    "start_time": "2022-04-17T17:56:15.686Z"
   },
   {
    "duration": 8,
    "start_time": "2022-04-17T17:56:15.695Z"
   },
   {
    "duration": 14,
    "start_time": "2022-04-17T17:56:15.705Z"
   },
   {
    "duration": 13,
    "start_time": "2022-04-17T17:56:15.722Z"
   },
   {
    "duration": 58,
    "start_time": "2022-04-17T17:56:15.743Z"
   },
   {
    "duration": 6,
    "start_time": "2022-04-17T17:56:15.804Z"
   },
   {
    "duration": 5,
    "start_time": "2022-04-17T17:56:15.812Z"
   },
   {
    "duration": 15,
    "start_time": "2022-04-17T17:56:15.820Z"
   },
   {
    "duration": 47,
    "start_time": "2022-04-17T17:56:15.838Z"
   },
   {
    "duration": 6,
    "start_time": "2022-04-17T17:56:15.887Z"
   },
   {
    "duration": 355,
    "start_time": "2022-04-17T18:01:55.273Z"
   },
   {
    "duration": 35,
    "start_time": "2022-04-17T18:02:02.395Z"
   },
   {
    "duration": 4,
    "start_time": "2022-04-17T18:02:10.308Z"
   },
   {
    "duration": 36,
    "start_time": "2022-04-17T18:02:43.373Z"
   },
   {
    "duration": 4,
    "start_time": "2022-04-17T18:06:24.858Z"
   },
   {
    "duration": 5,
    "start_time": "2022-04-17T18:06:57.970Z"
   },
   {
    "duration": 5,
    "start_time": "2022-04-17T18:07:13.234Z"
   },
   {
    "duration": 5,
    "start_time": "2022-04-17T18:08:37.847Z"
   },
   {
    "duration": 8,
    "start_time": "2022-04-17T18:09:11.063Z"
   },
   {
    "duration": 14,
    "start_time": "2022-04-17T18:09:24.471Z"
   },
   {
    "duration": 3379,
    "start_time": "2022-04-17T18:12:26.523Z"
   },
   {
    "duration": 3,
    "start_time": "2022-04-17T18:12:29.905Z"
   },
   {
    "duration": 1643,
    "start_time": "2022-04-17T18:12:29.910Z"
   },
   {
    "duration": 112,
    "start_time": "2022-04-17T18:12:31.556Z"
   },
   {
    "duration": 19,
    "start_time": "2022-04-17T18:12:31.670Z"
   },
   {
    "duration": 27,
    "start_time": "2022-04-17T18:12:31.691Z"
   },
   {
    "duration": 26,
    "start_time": "2022-04-17T18:12:31.721Z"
   },
   {
    "duration": 22,
    "start_time": "2022-04-17T18:12:31.749Z"
   },
   {
    "duration": 13,
    "start_time": "2022-04-17T18:12:31.774Z"
   },
   {
    "duration": 11,
    "start_time": "2022-04-17T18:12:31.793Z"
   },
   {
    "duration": 9,
    "start_time": "2022-04-17T18:12:31.806Z"
   },
   {
    "duration": 13,
    "start_time": "2022-04-17T18:12:31.817Z"
   },
   {
    "duration": 15,
    "start_time": "2022-04-17T18:12:31.833Z"
   },
   {
    "duration": 38,
    "start_time": "2022-04-17T18:12:31.850Z"
   },
   {
    "duration": 16,
    "start_time": "2022-04-17T18:12:31.890Z"
   },
   {
    "duration": 7,
    "start_time": "2022-04-17T18:12:31.908Z"
   },
   {
    "duration": 7,
    "start_time": "2022-04-17T18:12:31.917Z"
   },
   {
    "duration": 57,
    "start_time": "2022-04-17T18:12:31.926Z"
   },
   {
    "duration": 8,
    "start_time": "2022-04-17T18:12:31.985Z"
   },
   {
    "duration": 8,
    "start_time": "2022-04-17T18:12:31.995Z"
   },
   {
    "duration": 10,
    "start_time": "2022-04-17T18:12:32.005Z"
   },
   {
    "duration": 19,
    "start_time": "2022-04-17T18:12:32.017Z"
   },
   {
    "duration": 48,
    "start_time": "2022-04-17T18:12:32.038Z"
   },
   {
    "duration": 14,
    "start_time": "2022-04-17T18:12:32.088Z"
   },
   {
    "duration": 19,
    "start_time": "2022-04-17T18:12:32.104Z"
   },
   {
    "duration": 10,
    "start_time": "2022-04-17T18:12:32.125Z"
   },
   {
    "duration": 45,
    "start_time": "2022-04-17T18:12:32.137Z"
   },
   {
    "duration": 12,
    "start_time": "2022-04-17T18:12:32.188Z"
   },
   {
    "duration": 468,
    "start_time": "2022-04-17T18:12:32.202Z"
   },
   {
    "duration": 10,
    "start_time": "2022-04-17T18:12:32.672Z"
   },
   {
    "duration": 20,
    "start_time": "2022-04-17T18:12:32.684Z"
   },
   {
    "duration": 14,
    "start_time": "2022-04-17T18:12:32.706Z"
   },
   {
    "duration": 13,
    "start_time": "2022-04-17T18:12:32.722Z"
   },
   {
    "duration": 5,
    "start_time": "2022-04-17T18:12:32.737Z"
   },
   {
    "duration": 48,
    "start_time": "2022-04-17T18:12:32.745Z"
   },
   {
    "duration": 14,
    "start_time": "2022-04-17T18:12:32.795Z"
   },
   {
    "duration": 9,
    "start_time": "2022-04-17T18:12:32.812Z"
   },
   {
    "duration": 5,
    "start_time": "2022-04-17T18:12:32.823Z"
   },
   {
    "duration": 434,
    "start_time": "2022-04-17T18:12:32.830Z"
   },
   {
    "duration": 4,
    "start_time": "2022-04-17T18:12:33.266Z"
   },
   {
    "duration": 518,
    "start_time": "2022-04-17T18:12:33.272Z"
   },
   {
    "duration": 10,
    "start_time": "2022-04-17T18:12:33.792Z"
   },
   {
    "duration": 15,
    "start_time": "2022-04-17T18:12:33.805Z"
   },
   {
    "duration": 21,
    "start_time": "2022-04-17T18:12:33.822Z"
   },
   {
    "duration": 36,
    "start_time": "2022-04-17T18:12:33.845Z"
   },
   {
    "duration": 19,
    "start_time": "2022-04-17T18:12:33.884Z"
   },
   {
    "duration": 6,
    "start_time": "2022-04-17T18:12:33.906Z"
   },
   {
    "duration": 15,
    "start_time": "2022-04-17T18:12:33.914Z"
   },
   {
    "duration": 13,
    "start_time": "2022-04-17T18:12:33.931Z"
   },
   {
    "duration": 36,
    "start_time": "2022-04-17T18:12:33.946Z"
   },
   {
    "duration": 7,
    "start_time": "2022-04-17T18:12:33.984Z"
   },
   {
    "duration": 11,
    "start_time": "2022-04-17T18:12:33.993Z"
   },
   {
    "duration": 10,
    "start_time": "2022-04-17T18:12:34.006Z"
   },
   {
    "duration": 11,
    "start_time": "2022-04-17T18:12:34.018Z"
   },
   {
    "duration": 7,
    "start_time": "2022-04-17T18:12:34.031Z"
   },
   {
    "duration": 626,
    "start_time": "2022-04-17T18:12:34.040Z"
   },
   {
    "duration": 4,
    "start_time": "2022-04-17T18:12:34.668Z"
   },
   {
    "duration": 510,
    "start_time": "2022-04-17T18:12:34.674Z"
   },
   {
    "duration": 7,
    "start_time": "2022-04-17T18:12:35.186Z"
   },
   {
    "duration": 376,
    "start_time": "2022-04-17T18:12:35.195Z"
   },
   {
    "duration": 21,
    "start_time": "2022-04-17T18:12:35.573Z"
   },
   {
    "duration": 7,
    "start_time": "2022-04-17T18:12:35.596Z"
   },
   {
    "duration": 507,
    "start_time": "2022-04-17T18:12:35.605Z"
   },
   {
    "duration": 449,
    "start_time": "2022-04-17T18:12:36.114Z"
   },
   {
    "duration": 598,
    "start_time": "2022-04-17T18:12:36.566Z"
   },
   {
    "duration": 17,
    "start_time": "2022-04-17T18:12:37.167Z"
   },
   {
    "duration": 24,
    "start_time": "2022-04-17T18:12:37.187Z"
   },
   {
    "duration": 3,
    "start_time": "2022-04-17T18:12:37.215Z"
   },
   {
    "duration": 590,
    "start_time": "2022-04-17T18:12:37.221Z"
   },
   {
    "duration": 12,
    "start_time": "2022-04-17T18:12:37.814Z"
   },
   {
    "duration": 32,
    "start_time": "2022-04-17T18:12:37.828Z"
   },
   {
    "duration": 4,
    "start_time": "2022-04-17T18:12:37.882Z"
   },
   {
    "duration": 9,
    "start_time": "2022-04-17T18:12:37.889Z"
   },
   {
    "duration": 9,
    "start_time": "2022-04-17T18:12:37.901Z"
   },
   {
    "duration": 8,
    "start_time": "2022-04-17T18:12:37.912Z"
   },
   {
    "duration": 12,
    "start_time": "2022-04-17T18:12:37.922Z"
   },
   {
    "duration": 44,
    "start_time": "2022-04-17T18:12:37.937Z"
   },
   {
    "duration": 5,
    "start_time": "2022-04-17T18:12:37.984Z"
   },
   {
    "duration": 16,
    "start_time": "2022-04-17T18:12:37.991Z"
   },
   {
    "duration": 11,
    "start_time": "2022-04-17T18:12:38.010Z"
   },
   {
    "duration": 14,
    "start_time": "2022-04-17T18:12:38.024Z"
   },
   {
    "duration": 48,
    "start_time": "2022-04-17T18:12:38.047Z"
   },
   {
    "duration": 6,
    "start_time": "2022-04-17T18:12:38.098Z"
   },
   {
    "duration": 10,
    "start_time": "2022-04-17T18:12:38.106Z"
   },
   {
    "duration": 17,
    "start_time": "2022-04-17T18:12:38.118Z"
   },
   {
    "duration": 12,
    "start_time": "2022-04-17T18:12:38.137Z"
   },
   {
    "duration": 33,
    "start_time": "2022-04-17T18:12:38.151Z"
   },
   {
    "duration": 717,
    "start_time": "2022-04-17T18:23:08.531Z"
   },
   {
    "duration": 4459,
    "start_time": "2022-04-17T18:58:03.408Z"
   },
   {
    "duration": 4,
    "start_time": "2022-04-17T18:58:07.871Z"
   },
   {
    "duration": 1630,
    "start_time": "2022-04-17T18:58:07.877Z"
   },
   {
    "duration": 94,
    "start_time": "2022-04-17T18:58:09.510Z"
   },
   {
    "duration": 20,
    "start_time": "2022-04-17T18:58:09.607Z"
   },
   {
    "duration": 16,
    "start_time": "2022-04-17T18:58:09.629Z"
   },
   {
    "duration": 20,
    "start_time": "2022-04-17T18:58:09.648Z"
   },
   {
    "duration": 13,
    "start_time": "2022-04-17T18:58:09.683Z"
   },
   {
    "duration": 9,
    "start_time": "2022-04-17T18:58:09.698Z"
   },
   {
    "duration": 5,
    "start_time": "2022-04-17T18:58:09.712Z"
   },
   {
    "duration": 6,
    "start_time": "2022-04-17T18:58:09.720Z"
   },
   {
    "duration": 13,
    "start_time": "2022-04-17T18:58:09.729Z"
   },
   {
    "duration": 48,
    "start_time": "2022-04-17T18:58:09.744Z"
   },
   {
    "duration": 12,
    "start_time": "2022-04-17T18:58:09.794Z"
   },
   {
    "duration": 15,
    "start_time": "2022-04-17T18:58:09.808Z"
   },
   {
    "duration": 4,
    "start_time": "2022-04-17T18:58:09.825Z"
   },
   {
    "duration": 8,
    "start_time": "2022-04-17T18:58:09.831Z"
   },
   {
    "duration": 26,
    "start_time": "2022-04-17T18:58:09.881Z"
   },
   {
    "duration": 9,
    "start_time": "2022-04-17T18:58:09.909Z"
   },
   {
    "duration": 7,
    "start_time": "2022-04-17T18:58:09.920Z"
   },
   {
    "duration": 8,
    "start_time": "2022-04-17T18:58:09.929Z"
   },
   {
    "duration": 55,
    "start_time": "2022-04-17T18:58:09.939Z"
   },
   {
    "duration": 12,
    "start_time": "2022-04-17T18:58:09.996Z"
   },
   {
    "duration": 24,
    "start_time": "2022-04-17T18:58:10.010Z"
   },
   {
    "duration": 21,
    "start_time": "2022-04-17T18:58:10.036Z"
   },
   {
    "duration": 31,
    "start_time": "2022-04-17T18:58:10.059Z"
   },
   {
    "duration": 7,
    "start_time": "2022-04-17T18:58:10.092Z"
   },
   {
    "duration": 11,
    "start_time": "2022-04-17T18:58:10.105Z"
   },
   {
    "duration": 474,
    "start_time": "2022-04-17T18:58:10.118Z"
   },
   {
    "duration": 5,
    "start_time": "2022-04-17T18:58:10.595Z"
   },
   {
    "duration": 19,
    "start_time": "2022-04-17T18:58:10.602Z"
   },
   {
    "duration": 26,
    "start_time": "2022-04-17T18:58:10.623Z"
   },
   {
    "duration": 31,
    "start_time": "2022-04-17T18:58:10.651Z"
   },
   {
    "duration": 6,
    "start_time": "2022-04-17T18:58:10.684Z"
   },
   {
    "duration": 20,
    "start_time": "2022-04-17T18:58:10.693Z"
   },
   {
    "duration": 9,
    "start_time": "2022-04-17T18:58:10.716Z"
   },
   {
    "duration": 13,
    "start_time": "2022-04-17T18:58:10.727Z"
   },
   {
    "duration": 11,
    "start_time": "2022-04-17T18:58:10.742Z"
   },
   {
    "duration": 411,
    "start_time": "2022-04-17T18:58:10.781Z"
   },
   {
    "duration": 5,
    "start_time": "2022-04-17T18:58:11.194Z"
   },
   {
    "duration": 512,
    "start_time": "2022-04-17T18:58:11.201Z"
   },
   {
    "duration": 11,
    "start_time": "2022-04-17T18:58:11.715Z"
   },
   {
    "duration": 15,
    "start_time": "2022-04-17T18:58:11.728Z"
   },
   {
    "duration": 43,
    "start_time": "2022-04-17T18:58:11.745Z"
   },
   {
    "duration": 8,
    "start_time": "2022-04-17T18:58:11.790Z"
   },
   {
    "duration": 18,
    "start_time": "2022-04-17T18:58:11.800Z"
   },
   {
    "duration": 7,
    "start_time": "2022-04-17T18:58:11.820Z"
   },
   {
    "duration": 13,
    "start_time": "2022-04-17T18:58:11.829Z"
   },
   {
    "duration": 46,
    "start_time": "2022-04-17T18:58:11.844Z"
   },
   {
    "duration": 6,
    "start_time": "2022-04-17T18:58:11.892Z"
   },
   {
    "duration": 5,
    "start_time": "2022-04-17T18:58:11.901Z"
   },
   {
    "duration": 7,
    "start_time": "2022-04-17T18:58:11.909Z"
   },
   {
    "duration": 11,
    "start_time": "2022-04-17T18:58:11.918Z"
   },
   {
    "duration": 8,
    "start_time": "2022-04-17T18:58:11.931Z"
   },
   {
    "duration": 43,
    "start_time": "2022-04-17T18:58:11.941Z"
   },
   {
    "duration": 687,
    "start_time": "2022-04-17T18:58:11.987Z"
   },
   {
    "duration": 5,
    "start_time": "2022-04-17T18:58:12.676Z"
   },
   {
    "duration": 517,
    "start_time": "2022-04-17T18:58:12.683Z"
   },
   {
    "duration": 7,
    "start_time": "2022-04-17T18:58:13.202Z"
   },
   {
    "duration": 370,
    "start_time": "2022-04-17T18:58:13.211Z"
   },
   {
    "duration": 18,
    "start_time": "2022-04-17T18:58:13.584Z"
   },
   {
    "duration": 6,
    "start_time": "2022-04-17T18:58:13.604Z"
   },
   {
    "duration": 502,
    "start_time": "2022-04-17T18:58:13.612Z"
   },
   {
    "duration": 416,
    "start_time": "2022-04-17T18:58:14.116Z"
   },
   {
    "duration": 411,
    "start_time": "2022-04-17T18:58:14.534Z"
   },
   {
    "duration": 7,
    "start_time": "2022-04-17T18:58:14.948Z"
   },
   {
    "duration": 36,
    "start_time": "2022-04-17T18:58:14.958Z"
   },
   {
    "duration": 9,
    "start_time": "2022-04-17T18:58:14.997Z"
   },
   {
    "duration": 272,
    "start_time": "2022-04-17T18:58:15.009Z"
   },
   {
    "duration": 13,
    "start_time": "2022-04-17T18:58:15.284Z"
   },
   {
    "duration": 31,
    "start_time": "2022-04-17T18:58:15.299Z"
   },
   {
    "duration": 5,
    "start_time": "2022-04-17T18:58:15.333Z"
   },
   {
    "duration": 44,
    "start_time": "2022-04-17T18:58:15.340Z"
   },
   {
    "duration": 14,
    "start_time": "2022-04-17T18:58:15.386Z"
   },
   {
    "duration": 4,
    "start_time": "2022-04-17T18:58:15.403Z"
   },
   {
    "duration": 6,
    "start_time": "2022-04-17T18:58:15.410Z"
   },
   {
    "duration": 21,
    "start_time": "2022-04-17T18:58:15.418Z"
   },
   {
    "duration": 8,
    "start_time": "2022-04-17T18:58:15.441Z"
   },
   {
    "duration": 34,
    "start_time": "2022-04-17T18:58:15.451Z"
   },
   {
    "duration": 9,
    "start_time": "2022-04-17T18:58:15.487Z"
   },
   {
    "duration": 14,
    "start_time": "2022-04-17T18:58:15.498Z"
   },
   {
    "duration": 27,
    "start_time": "2022-04-17T18:58:15.521Z"
   },
   {
    "duration": 37,
    "start_time": "2022-04-17T18:58:15.550Z"
   },
   {
    "duration": 5,
    "start_time": "2022-04-17T18:58:15.589Z"
   },
   {
    "duration": 12,
    "start_time": "2022-04-17T18:58:15.596Z"
   },
   {
    "duration": 12,
    "start_time": "2022-04-17T18:58:15.612Z"
   },
   {
    "duration": 10,
    "start_time": "2022-04-17T18:58:15.626Z"
   },
   {
    "duration": 112,
    "start_time": "2022-04-17T19:01:54.120Z"
   },
   {
    "duration": 3268,
    "start_time": "2022-04-18T07:03:45.953Z"
   },
   {
    "duration": 3,
    "start_time": "2022-04-18T07:03:49.224Z"
   },
   {
    "duration": 1265,
    "start_time": "2022-04-18T07:03:49.231Z"
   },
   {
    "duration": 96,
    "start_time": "2022-04-18T07:03:50.498Z"
   },
   {
    "duration": 11,
    "start_time": "2022-04-18T07:03:50.595Z"
   },
   {
    "duration": 15,
    "start_time": "2022-04-18T07:03:50.607Z"
   },
   {
    "duration": 48,
    "start_time": "2022-04-18T07:03:50.624Z"
   },
   {
    "duration": 25,
    "start_time": "2022-04-18T07:03:50.674Z"
   },
   {
    "duration": 41,
    "start_time": "2022-04-18T07:03:50.702Z"
   },
   {
    "duration": 33,
    "start_time": "2022-04-18T07:03:50.744Z"
   },
   {
    "duration": 41,
    "start_time": "2022-04-18T07:03:50.779Z"
   },
   {
    "duration": 57,
    "start_time": "2022-04-18T07:03:50.822Z"
   },
   {
    "duration": 20,
    "start_time": "2022-04-18T07:03:50.881Z"
   },
   {
    "duration": 42,
    "start_time": "2022-04-18T07:03:50.903Z"
   },
   {
    "duration": 39,
    "start_time": "2022-04-18T07:03:50.947Z"
   },
   {
    "duration": 35,
    "start_time": "2022-04-18T07:03:50.988Z"
   },
   {
    "duration": 40,
    "start_time": "2022-04-18T07:03:51.024Z"
   },
   {
    "duration": 30,
    "start_time": "2022-04-18T07:03:51.066Z"
   },
   {
    "duration": 13,
    "start_time": "2022-04-18T07:03:51.097Z"
   },
   {
    "duration": 18,
    "start_time": "2022-04-18T07:03:51.111Z"
   },
   {
    "duration": 18,
    "start_time": "2022-04-18T07:03:51.131Z"
   },
   {
    "duration": 26,
    "start_time": "2022-04-18T07:03:51.150Z"
   },
   {
    "duration": 9,
    "start_time": "2022-04-18T07:03:51.177Z"
   },
   {
    "duration": 12,
    "start_time": "2022-04-18T07:03:51.187Z"
   },
   {
    "duration": 16,
    "start_time": "2022-04-18T07:03:51.201Z"
   },
   {
    "duration": 7,
    "start_time": "2022-04-18T07:03:51.218Z"
   },
   {
    "duration": 3,
    "start_time": "2022-04-18T07:03:51.230Z"
   },
   {
    "duration": 15,
    "start_time": "2022-04-18T07:03:51.234Z"
   },
   {
    "duration": 264,
    "start_time": "2022-04-18T07:03:51.250Z"
   },
   {
    "duration": 3,
    "start_time": "2022-04-18T07:03:51.515Z"
   },
   {
    "duration": 14,
    "start_time": "2022-04-18T07:03:51.520Z"
   },
   {
    "duration": 9,
    "start_time": "2022-04-18T07:03:51.536Z"
   },
   {
    "duration": 7,
    "start_time": "2022-04-18T07:03:51.546Z"
   },
   {
    "duration": 3,
    "start_time": "2022-04-18T07:03:51.555Z"
   },
   {
    "duration": 36,
    "start_time": "2022-04-18T07:03:51.560Z"
   },
   {
    "duration": 6,
    "start_time": "2022-04-18T07:03:51.598Z"
   },
   {
    "duration": 16,
    "start_time": "2022-04-18T07:03:51.606Z"
   },
   {
    "duration": 11,
    "start_time": "2022-04-18T07:03:51.623Z"
   },
   {
    "duration": 232,
    "start_time": "2022-04-18T07:03:51.636Z"
   },
   {
    "duration": 3,
    "start_time": "2022-04-18T07:03:51.870Z"
   },
   {
    "duration": 320,
    "start_time": "2022-04-18T07:03:51.875Z"
   },
   {
    "duration": 8,
    "start_time": "2022-04-18T07:03:52.197Z"
   },
   {
    "duration": 16,
    "start_time": "2022-04-18T07:03:52.208Z"
   },
   {
    "duration": 17,
    "start_time": "2022-04-18T07:03:52.226Z"
   },
   {
    "duration": 8,
    "start_time": "2022-04-18T07:03:52.245Z"
   },
   {
    "duration": 25,
    "start_time": "2022-04-18T07:03:52.255Z"
   },
   {
    "duration": 10,
    "start_time": "2022-04-18T07:03:52.282Z"
   },
   {
    "duration": 9,
    "start_time": "2022-04-18T07:03:52.294Z"
   },
   {
    "duration": 10,
    "start_time": "2022-04-18T07:03:52.305Z"
   },
   {
    "duration": 6,
    "start_time": "2022-04-18T07:03:52.317Z"
   },
   {
    "duration": 6,
    "start_time": "2022-04-18T07:03:52.325Z"
   },
   {
    "duration": 12,
    "start_time": "2022-04-18T07:03:52.333Z"
   },
   {
    "duration": 11,
    "start_time": "2022-04-18T07:03:52.347Z"
   },
   {
    "duration": 19,
    "start_time": "2022-04-18T07:03:52.360Z"
   },
   {
    "duration": 15,
    "start_time": "2022-04-18T07:03:52.382Z"
   },
   {
    "duration": 358,
    "start_time": "2022-04-18T07:03:52.399Z"
   },
   {
    "duration": 5,
    "start_time": "2022-04-18T07:03:52.759Z"
   },
   {
    "duration": 378,
    "start_time": "2022-04-18T07:03:52.766Z"
   },
   {
    "duration": 7,
    "start_time": "2022-04-18T07:03:53.146Z"
   },
   {
    "duration": 214,
    "start_time": "2022-04-18T07:03:53.154Z"
   },
   {
    "duration": 12,
    "start_time": "2022-04-18T07:03:53.370Z"
   },
   {
    "duration": 5,
    "start_time": "2022-04-18T07:03:53.392Z"
   },
   {
    "duration": 307,
    "start_time": "2022-04-18T07:03:53.399Z"
   },
   {
    "duration": 227,
    "start_time": "2022-04-18T07:03:53.708Z"
   },
   {
    "duration": 231,
    "start_time": "2022-04-18T07:03:53.937Z"
   },
   {
    "duration": 5,
    "start_time": "2022-04-18T07:03:54.170Z"
   },
   {
    "duration": 9,
    "start_time": "2022-04-18T07:03:54.192Z"
   },
   {
    "duration": 12,
    "start_time": "2022-04-18T07:03:54.202Z"
   },
   {
    "duration": 131,
    "start_time": "2022-04-18T07:03:54.215Z"
   },
   {
    "duration": 8,
    "start_time": "2022-04-18T07:03:54.347Z"
   },
   {
    "duration": 34,
    "start_time": "2022-04-18T07:03:54.356Z"
   },
   {
    "duration": 3,
    "start_time": "2022-04-18T07:03:54.393Z"
   },
   {
    "duration": 11,
    "start_time": "2022-04-18T07:03:54.398Z"
   },
   {
    "duration": 15,
    "start_time": "2022-04-18T07:03:54.411Z"
   },
   {
    "duration": 5,
    "start_time": "2022-04-18T07:03:54.428Z"
   },
   {
    "duration": 4,
    "start_time": "2022-04-18T07:03:54.435Z"
   },
   {
    "duration": 7,
    "start_time": "2022-04-18T07:03:54.441Z"
   },
   {
    "duration": 9,
    "start_time": "2022-04-18T07:03:54.449Z"
   },
   {
    "duration": 8,
    "start_time": "2022-04-18T07:03:54.459Z"
   },
   {
    "duration": 24,
    "start_time": "2022-04-18T07:03:54.469Z"
   },
   {
    "duration": 9,
    "start_time": "2022-04-18T07:03:54.499Z"
   },
   {
    "duration": 23,
    "start_time": "2022-04-18T07:03:54.510Z"
   },
   {
    "duration": 5,
    "start_time": "2022-04-18T07:03:54.535Z"
   },
   {
    "duration": 14,
    "start_time": "2022-04-18T07:03:54.541Z"
   },
   {
    "duration": 19,
    "start_time": "2022-04-18T07:03:54.557Z"
   },
   {
    "duration": 23,
    "start_time": "2022-04-18T07:03:54.578Z"
   },
   {
    "duration": 17,
    "start_time": "2022-04-18T07:03:54.602Z"
   }
  ],
  "kernelspec": {
   "display_name": "Python 3 (ipykernel)",
   "language": "python",
   "name": "python3"
  },
  "language_info": {
   "codemirror_mode": {
    "name": "ipython",
    "version": 3
   },
   "file_extension": ".py",
   "mimetype": "text/x-python",
   "name": "python",
   "nbconvert_exporter": "python",
   "pygments_lexer": "ipython3",
   "version": "3.9.7"
  },
  "toc": {
   "base_numbering": 1,
   "nav_menu": {},
   "number_sections": true,
   "sideBar": true,
   "skip_h1_title": true,
   "title_cell": "Table of Contents",
   "title_sidebar": "Contents",
   "toc_cell": false,
   "toc_position": {},
   "toc_section_display": true,
   "toc_window_display": false
  }
 },
 "nbformat": 4,
 "nbformat_minor": 5
}
